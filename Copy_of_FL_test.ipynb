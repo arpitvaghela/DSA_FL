{
  "nbformat": 4,
  "nbformat_minor": 0,
  "metadata": {
    "colab": {
      "name": "Copy of FL_test.ipynb",
      "provenance": [],
      "collapsed_sections": [],
      "toc_visible": true,
      "include_colab_link": true
    },
    "kernelspec": {
      "name": "python3",
      "display_name": "Python 3"
    },
    "accelerator": "GPU"
  },
  "cells": [
    {
      "cell_type": "markdown",
      "metadata": {
        "id": "view-in-github",
        "colab_type": "text"
      },
      "source": [
        "<a href=\"https://colab.research.google.com/github/arpitvaghela/DSA_FL/blob/main/Copy_of_FL_test.ipynb\" target=\"_parent\"><img src=\"https://colab.research.google.com/assets/colab-badge.svg\" alt=\"Open In Colab\"/></a>"
      ]
    },
    {
      "cell_type": "markdown",
      "metadata": {
        "id": "svCGSaj-nkhH"
      },
      "source": [
        "# LSTM time series prediction using Federated Learning"
      ]
    },
    {
      "cell_type": "markdown",
      "metadata": {
        "id": "uXCLSy4Gnwlb"
      },
      "source": [
        "## Imports"
      ]
    },
    {
      "cell_type": "code",
      "metadata": {
        "id": "eH133PxAmIwg"
      },
      "source": [
        "!pip install --quiet --upgrade tensorflow_federated_nightly\n",
        "!pip install --quiet --upgrade nest_asyncio\n",
        "\n",
        "import nest_asyncio\n",
        "nest_asyncio.apply()"
      ],
      "execution_count": 95,
      "outputs": []
    },
    {
      "cell_type": "code",
      "metadata": {
        "id": "TFY4S2_Snf7n"
      },
      "source": [
        "import collections\n",
        "import functools\n",
        "import os\n",
        "import time\n",
        "import math\n",
        "import numpy as np\n",
        "import pandas as pd\n",
        "import matplotlib.pyplot as plt\n",
        "\n",
        "from sklearn.preprocessing import MinMaxScaler\n",
        "from sklearn.metrics import mean_squared_error\n",
        "\n",
        "import tensorflow as tf\n",
        "\n",
        "np.random.seed(0)"
      ],
      "execution_count": 96,
      "outputs": []
    },
    {
      "cell_type": "code",
      "metadata": {
        "id": "ZMWb0_6TiCEY",
        "outputId": "1d87d612-199f-40bd-e3e6-cae73960b2d4",
        "colab": {
          "base_uri": "https://localhost:8080/"
        }
      },
      "source": [
        "import tensorflow_federated as tff\n",
        "\n",
        "# Test the TFF is working:\n",
        "tff.federated_computation(lambda: 'Hello, World!')()"
      ],
      "execution_count": 97,
      "outputs": [
        {
          "output_type": "execute_result",
          "data": {
            "text/plain": [
              "b'Hello, World!'"
            ]
          },
          "metadata": {
            "tags": []
          },
          "execution_count": 97
        }
      ]
    },
    {
      "cell_type": "markdown",
      "metadata": {
        "id": "Sai_FSFon2bi"
      },
      "source": [
        "## Data preprocessing\n"
      ]
    },
    {
      "cell_type": "code",
      "metadata": {
        "id": "01sVWKEeGD2h",
        "outputId": "2d64105d-bdbe-426c-bb88-b58d5e07e4a3",
        "colab": {
          "base_uri": "https://localhost:8080/"
        }
      },
      "source": [
        "#FM = np.fromfile('96_7_20db',dtype=np.float32)\n",
        "N = 10**6\n",
        "FM = np.random.randn(N) # normal distributed channel\n",
        "FM.reshape(-1,1) "
      ],
      "execution_count": 98,
      "outputs": [
        {
          "output_type": "execute_result",
          "data": {
            "text/plain": [
              "array([[ 1.76405235],\n",
              "       [ 0.40015721],\n",
              "       [ 0.97873798],\n",
              "       ...,\n",
              "       [-0.79728264],\n",
              "       [ 0.87475609],\n",
              "       [ 1.37183066]])"
            ]
          },
          "metadata": {
            "tags": []
          },
          "execution_count": 98
        }
      ]
    },
    {
      "cell_type": "markdown",
      "metadata": {
        "id": "nAM2qAD-oW94"
      },
      "source": [
        "### Bandpower Equation\n"
      ]
    },
    {
      "cell_type": "code",
      "metadata": {
        "id": "GYO80pFIoeQA"
      },
      "source": [
        "def bandpower(signal:np.array)->np.float:\n",
        "  return np.mean(signal ** 2)"
      ],
      "execution_count": 99,
      "outputs": []
    },
    {
      "cell_type": "code",
      "metadata": {
        "id": "nNXbJyA7oi1m",
        "outputId": "f203dba5-47de-469e-f350-b9b7933c9a87",
        "colab": {
          "base_uri": "https://localhost:8080/"
        }
      },
      "source": [
        "bandpower(FM)"
      ],
      "execution_count": 100,
      "outputs": [
        {
          "output_type": "execute_result",
          "data": {
            "text/plain": [
              "0.9998449448099948"
            ]
          },
          "metadata": {
            "tags": []
          },
          "execution_count": 100
        }
      ]
    },
    {
      "cell_type": "markdown",
      "metadata": {
        "id": "BPcmk3Fto4Rv"
      },
      "source": [
        "### awgn Function\n",
        "\n",
        "Function to add noise to the signal resulting in given S/N ratio"
      ]
    },
    {
      "cell_type": "code",
      "metadata": {
        "id": "LWbyqmZGo8_W"
      },
      "source": [
        "def awgn(signal:np.ndarray, desired_snr:int):\n",
        "  \"\"\"Add AWGN noise to generate signal with given SNR. \n",
        "  \"\"\"\n",
        "  # Converting the SNR from dB scale to linear scale\n",
        "  snr_linear = math.pow(10, desired_snr / 10)\n",
        "  \n",
        "  # Standard normally distributed noise\n",
        "  noise = np.random.randn(signal.shape[0], 1)\n",
        "  \n",
        "  # Using the boxed formula\n",
        "  var_signal = bandpower(noise) * snr_linear\n",
        "  \n",
        "  # Normalizing the signal to have the given variance\n",
        "  normalized_signal = math.sqrt(var_signal) * (signal / math.sqrt(bandpower(signal)))\n",
        "  \n",
        "  #print(\"SNR = \" + str(10 * math.log10(bandpower(normalized_signal) / bandpower(noise))))\n",
        "  \n",
        "  return normalized_signal + noise"
      ],
      "execution_count": 101,
      "outputs": []
    },
    {
      "cell_type": "markdown",
      "metadata": {
        "id": "o4pR1LeimNOH"
      },
      "source": [
        "## Filtering Data\n",
        "\n",
        "filtering data points to be in range $10^{-7}< signal< 1$"
      ]
    },
    {
      "cell_type": "code",
      "metadata": {
        "id": "QIk4gvwImMLw",
        "outputId": "716fe7f5-7649-4cb6-f60d-5303ca1c3f87",
        "colab": {
          "base_uri": "https://localhost:8080/"
        }
      },
      "source": [
        "FM = FM[np.logical_and(FM > math.pow(10, -7), FM < 1)]\n",
        "FM = FM.reshape(FM.shape[0], 1)\n",
        "print(\"Size of FM: \" + str(FM.shape))"
      ],
      "execution_count": 102,
      "outputs": [
        {
          "output_type": "stream",
          "text": [
            "Size of FM: (342135, 1)\n"
          ],
          "name": "stdout"
        }
      ]
    },
    {
      "cell_type": "markdown",
      "metadata": {
        "id": "YbLdLGRQmiRO"
      },
      "source": [
        "## Creating Dataset\n",
        "\n",
        "- take datapoints of size, _samples*sample_size_\n",
        "\n",
        "- add noise with desire snr\n",
        "\n",
        "- sample = $[s_1,s_2,\\cdots,s_N]$\n",
        "\n",
        "- Energy detection = $\\sum_{i=1}^{N}s_i^2$\n",
        "\n",
        "- $X[j]$ = $\\sum_{i=j*N+1}^{(j+1)*N}s_i^2$"
      ]
    },
    {
      "cell_type": "code",
      "metadata": {
        "id": "R1LYkOJNmk0T"
      },
      "source": [
        "def create_dataset(signal, desired_snr, samples, sample_size):\n",
        "  \n",
        "  # Creating the signal with desired SNR\n",
        "  snr_signal = awgn(signal[0:samples * sample_size], desired_snr)\n",
        "  \n",
        "  # Allocating zeros to the dataset\n",
        "  X = np.zeros((samples, 1))\n",
        "  \n",
        "  for i in range(0, samples):\n",
        "    \n",
        "    # Extracting the sample based on sample size\n",
        "    sampled_signal = snr_signal[i * sample_size : (i + 1) * sample_size]\n",
        "    \n",
        "    # Sorting the sampled signal\n",
        "    sampled_signal = np.sort(sampled_signal, axis=0)\n",
        "    \n",
        "    # Energy detection\n",
        "    E = np.sum(sampled_signal ** 2)\n",
        "    \n",
        "    # Assigning values to the dataset\n",
        "    X[i][0] = E\n",
        "  \n",
        "  return X"
      ],
      "execution_count": 103,
      "outputs": []
    },
    {
      "cell_type": "code",
      "metadata": {
        "id": "WulnZ62AqrIo",
        "outputId": "db19527e-17cc-4d46-ce99-ce3c920bb35c",
        "colab": {
          "base_uri": "https://localhost:8080/"
        }
      },
      "source": [
        "%%time\n",
        "# sample dataset for SNR=4\n",
        "\n",
        "print(create_dataset(FM[50000:], 4, 15000, 100).shape)"
      ],
      "execution_count": 104,
      "outputs": [
        {
          "output_type": "stream",
          "text": [
            "(15000, 1)\n",
            "CPU times: user 165 ms, sys: 2.97 ms, total: 168 ms\n",
            "Wall time: 166 ms\n"
          ],
          "name": "stdout"
        }
      ]
    },
    {
      "cell_type": "code",
      "metadata": {
        "id": "U_gucdavtx1G"
      },
      "source": [
        "def final_dataset(signal, snr_range, samples_per_snr, sample_size):\n",
        "  X = {}\n",
        "  \n",
        "  for snr in snr_range:\n",
        "    # Creating dataset for the given SNR\n",
        "    X_snr = create_dataset(signal, snr, samples_per_snr, sample_size)\n",
        "    \n",
        "    # Indexing within the final dataset matrix X\n",
        "    X[snr] = X_snr\n",
        "  \n",
        "  return X"
      ],
      "execution_count": 105,
      "outputs": []
    },
    {
      "cell_type": "markdown",
      "metadata": {
        "id": "cI4xprvuz63F"
      },
      "source": [
        "## Generating White Noise Sequence "
      ]
    },
    {
      "cell_type": "code",
      "metadata": {
        "id": "Hxedtzrhz1Zg"
      },
      "source": [
        "def create_noise_sequence(samples, sample_size):\n",
        "  \n",
        "  # Creating white noise sequence of variance 1\n",
        "  noise = np.random.randn(samples * sample_size, 1)\n",
        "  \n",
        "  # Allocating zeros to the dataset\n",
        "  X = np.zeros((samples, 1))\n",
        "  \n",
        "  for i in range(0, samples):\n",
        "    \n",
        "    # Extracting the sample based on sample size\n",
        "    sampled_signal = noise[i * sample_size : (i + 1) * sample_size]\n",
        "    \n",
        "    # Sorting the sampled signal\n",
        "    sampled_signal = np.sort(sampled_signal, axis=0)\n",
        "    \n",
        "    # Energy detection\n",
        "    E = np.sum(sampled_signal ** 2)\n",
        "    \n",
        "    # Assigning values to the dataset\n",
        "    X[i][0] = E\n",
        "  \n",
        "  return X"
      ],
      "execution_count": 106,
      "outputs": []
    },
    {
      "cell_type": "markdown",
      "metadata": {
        "id": "OJyk2JF-75mK"
      },
      "source": [
        "## DataSet LookBack for RNN"
      ]
    },
    {
      "cell_type": "code",
      "metadata": {
        "id": "gvufTiZ474jN"
      },
      "source": [
        "# Function for Chaning the dataset for look back  #linear dataset initially\n",
        "def create_look_back(X, look_back=1):\n",
        "  \n",
        "  # Look back dataset is initialized to be empty\n",
        "  look_back_X = []\n",
        "  \n",
        "  for i in range(len(X) - look_back + 1):\n",
        "    # Extracting an example from the dataset\n",
        "    a = X[i:(i + look_back), :]\n",
        "    \n",
        "    a = a.flatten() # (For flattening) #1D list\n",
        "    \n",
        "    # Appending to the dataset\n",
        "    look_back_X.append(a)\n",
        "  \n",
        "#  look_back_Y = []\n",
        "    \n",
        "  # Returning in numpy's array format\n",
        "  return np.array(look_back_X)"
      ],
      "execution_count": 107,
      "outputs": []
    },
    {
      "cell_type": "code",
      "metadata": {
        "id": "z2GMlbPO8AVW"
      },
      "source": [
        "def dataset_look_back(X_tech, snr_range, look_back):\n",
        "  X_tech_lb = {}\n",
        "  \n",
        "  # Look backs for all SNRs\n",
        "  for snr in snr_range:\n",
        "    X_tech_lb[snr] = create_look_back(X_tech[snr], look_back)\n",
        "  \n",
        "  return X_tech_lb"
      ],
      "execution_count": 108,
      "outputs": []
    },
    {
      "cell_type": "code",
      "metadata": {
        "id": "scC_nkQK5nTW"
      },
      "source": [
        "def generate_Dataset(FM,snr_ratio=(0.8, 0.2),sample_size=100):\n",
        "  lsnr_range=(-20,-4)\n",
        "  hsnr_range=(-4,6)\n",
        "  look_back = 2\n",
        "  N = len(FM)\n",
        "  \n",
        "  no_of_sample_hsnr = int((N*snr_ratio[0])//((hsnr_range[1] - hsnr_range[0])/2))\n",
        "  no_of_sample_lsnr = int((N*snr_ratio[1])//((lsnr_range[1] - lsnr_range[0])/2))\n",
        "  \n",
        "  X_FM = {**final_dataset(FM, range(lsnr_range[0],lsnr_range[1], 2),no_of_sample_lsnr, sample_size),\n",
        "          **final_dataset(FM, range(hsnr_range[0],hsnr_range[1], 2), no_of_sample_hsnr, sample_size)}\n",
        "\n",
        "  X_noise = create_noise_sequence(N, sample_size)\n",
        "\n",
        "  # lookback\n",
        "\n",
        "  X_FM_lb = dataset_look_back(X_FM, range(-20, 6, 2), look_back)\n",
        "  X_noise_lb = create_look_back(X_noise, look_back)\n",
        "\n",
        "  # final X_train and y\n",
        "\n",
        "  X = X_FM_lb[-20]\n",
        "  y = []\n",
        "\n",
        "  for snr in range(-18, 6, 2):\n",
        "    X = np.concatenate((X, X_FM_lb[snr]), axis=0)\n",
        "\n",
        "  y = np.ones((X.shape[0], 1))\n",
        " \n",
        "  # print(X.shape)\n",
        "  # print(X_noise_lb.shape)\n",
        "  X = np.concatenate((X, X_noise_lb), axis=0)\n",
        "  y_train = np.concatenate((y, np.zeros((X_noise_lb.shape[0], 1))))\n",
        "\n",
        "  \n",
        "  # reshape\n",
        "  X_train = np.reshape(X, (-1, 2, 1))\n",
        "  Y_train = np.reshape(y_train,(-1,1,1))\n",
        "\n",
        "  index = [i for i in range(len(X_train))]\n",
        "  np.random.shuffle(index)\n",
        "\n",
        "  X_train = np.array([X_train[i] for i in index])\n",
        "  Y_train = np.array([Y_train[i] for i in index])\n",
        "  \n",
        "  return X_train,Y_train\n",
        "\n",
        " "
      ],
      "execution_count": 109,
      "outputs": []
    },
    {
      "cell_type": "code",
      "metadata": {
        "id": "AJU9EU3wBwNe"
      },
      "source": [
        "# created dataset\n",
        "X,Y = generate_Dataset(FM)"
      ],
      "execution_count": 110,
      "outputs": []
    },
    {
      "cell_type": "code",
      "metadata": {
        "id": "BGzoklAWn1D2",
        "outputId": "056e7728-f809-4ab2-e7af-6712cf9f3fb4",
        "colab": {
          "base_uri": "https://localhost:8080/"
        }
      },
      "source": [
        "print(\"Shape of X,Y :\",X.shape,Y.shape) # similar to the shape we have\n",
        "\n",
        "# train,test split\n",
        "train_size = int(len(X)*0.80)\n",
        "test_size = len(X) - train_size\n",
        "\n",
        "X_train, X_test = X[:train_size,:,:],X[train_size:,:,:]\n",
        "Y_train, Y_test = Y[:train_size,:,:],Y[train_size:,:,:]\n",
        "\n",
        "\n",
        "print(X_train.shape,X_test.shape)\n",
        "print(Y_train.shape,Y_test.shape)\n"
      ],
      "execution_count": 111,
      "outputs": [
        {
          "output_type": "stream",
          "text": [
            "Shape of X,Y : (684250, 2, 1) (684250, 1, 1)\n",
            "(547400, 2, 1) (136850, 2, 1)\n",
            "(547400, 1, 1) (136850, 1, 1)\n"
          ],
          "name": "stdout"
        }
      ]
    },
    {
      "cell_type": "code",
      "metadata": {
        "id": "toI_ufHp468o",
        "outputId": "c1defd65-e79b-4836-9e0e-85e7691cc6bb",
        "colab": {
          "base_uri": "https://localhost:8080/"
        }
      },
      "source": [
        "X_train[0],Y_train[0]"
      ],
      "execution_count": 112,
      "outputs": [
        {
          "output_type": "execute_result",
          "data": {
            "text/plain": [
              "(array([[0.],\n",
              "        [0.]]), array([[1.]]))"
            ]
          },
          "metadata": {
            "tags": []
          },
          "execution_count": 112
        }
      ]
    },
    {
      "cell_type": "markdown",
      "metadata": {
        "id": "mgDaE52i1rW1"
      },
      "source": [
        "## LSTM model and training"
      ]
    },
    {
      "cell_type": "code",
      "metadata": {
        "id": "2uFVvvCA1oyA",
        "outputId": "142985ef-865c-408f-f53d-e1d1f1278508",
        "colab": {
          "base_uri": "https://localhost:8080/"
        }
      },
      "source": [
        "model = tf.keras.models.Sequential([\n",
        "      tf.keras.layers.LSTM(4,input_dim=1),\n",
        "      tf.keras.layers.Dense(1, activation='sigmoid')\n",
        "])\n",
        "\n",
        "model.compile(loss='binary_crossentropy', optimizer='adam', metrics=['accuracy'])\n",
        "model.summary()"
      ],
      "execution_count": 113,
      "outputs": [
        {
          "output_type": "stream",
          "text": [
            "Model: \"sequential_1\"\n",
            "_________________________________________________________________\n",
            "Layer (type)                 Output Shape              Param #   \n",
            "=================================================================\n",
            "lstm_1 (LSTM)                (None, 4)                 96        \n",
            "_________________________________________________________________\n",
            "dense_1 (Dense)              (None, 1)                 5         \n",
            "=================================================================\n",
            "Total params: 101\n",
            "Trainable params: 101\n",
            "Non-trainable params: 0\n",
            "_________________________________________________________________\n"
          ],
          "name": "stdout"
        }
      ]
    },
    {
      "cell_type": "code",
      "metadata": {
        "id": "UcsCPMCG2TiW",
        "outputId": "5e4ee3b8-28e7-4f5b-c50f-25157f7b87d5",
        "colab": {
          "base_uri": "https://localhost:8080/"
        }
      },
      "source": [
        "model.fit(X_train,Y_train,validation_split=0.25,epochs=10,verbose=1)\n",
        "\n",
        "model.evaluate(X_test,Y_test,verbose=1)"
      ],
      "execution_count": 114,
      "outputs": [
        {
          "output_type": "stream",
          "text": [
            "Epoch 1/10\n",
            "12830/12830 [==============================] - 27s 2ms/step - loss: 0.2865 - accuracy: 0.9141 - val_loss: 0.2019 - val_accuracy: 0.9350\n",
            "Epoch 2/10\n",
            "12830/12830 [==============================] - 26s 2ms/step - loss: 0.2014 - accuracy: 0.9352 - val_loss: 0.2018 - val_accuracy: 0.9350\n",
            "Epoch 3/10\n",
            "12830/12830 [==============================] - 25s 2ms/step - loss: 0.2025 - accuracy: 0.9347 - val_loss: 0.2018 - val_accuracy: 0.9350\n",
            "Epoch 4/10\n",
            "12830/12830 [==============================] - 25s 2ms/step - loss: 0.2023 - accuracy: 0.9347 - val_loss: 0.2018 - val_accuracy: 0.9350\n",
            "Epoch 5/10\n",
            "12830/12830 [==============================] - 25s 2ms/step - loss: 0.2025 - accuracy: 0.9346 - val_loss: 0.2018 - val_accuracy: 0.9350\n",
            "Epoch 6/10\n",
            "12830/12830 [==============================] - 25s 2ms/step - loss: 0.2030 - accuracy: 0.9344 - val_loss: 0.2018 - val_accuracy: 0.9350\n",
            "Epoch 7/10\n",
            "12830/12830 [==============================] - 25s 2ms/step - loss: 0.2026 - accuracy: 0.9346 - val_loss: 0.2018 - val_accuracy: 0.9350\n",
            "Epoch 8/10\n",
            "12830/12830 [==============================] - 25s 2ms/step - loss: 0.2013 - accuracy: 0.9352 - val_loss: 0.2019 - val_accuracy: 0.9350\n",
            "Epoch 9/10\n",
            "12830/12830 [==============================] - 26s 2ms/step - loss: 0.2007 - accuracy: 0.9354 - val_loss: 0.2018 - val_accuracy: 0.9350\n",
            "Epoch 10/10\n",
            "12830/12830 [==============================] - 25s 2ms/step - loss: 0.2011 - accuracy: 0.9352 - val_loss: 0.2018 - val_accuracy: 0.9350\n",
            "4277/4277 [==============================] - 4s 972us/step - loss: 0.2015 - accuracy: 0.9350\n"
          ],
          "name": "stdout"
        },
        {
          "output_type": "execute_result",
          "data": {
            "text/plain": [
              "[0.2015446573495865, 0.9350310564041138]"
            ]
          },
          "metadata": {
            "tags": []
          },
          "execution_count": 114
        }
      ]
    },
    {
      "cell_type": "markdown",
      "metadata": {
        "id": "ZmsKdN4L-XoH"
      },
      "source": [
        "## LSTM model test"
      ]
    },
    {
      "cell_type": "code",
      "metadata": {
        "id": "WPRyulTQ4xlR",
        "outputId": "b5746b3c-c23f-4124-aee6-cc654008ae1c",
        "colab": {
          "base_uri": "https://localhost:8080/",
          "height": 295
        }
      },
      "source": [
        "from sklearn.metrics import roc_curve\n",
        "from sklearn.metrics import auc\n",
        "\n",
        "Y_pred = model.predict(X_test).ravel()\n",
        "Y_pred.reshape(-1,1)\n",
        "fpr, tpr, threshold = roc_curve(Y_test.reshape(-1,1), Y_pred) \n",
        "auc_tf = auc(fpr,tpr)\n",
        "plt.plot(fpr, tpr, label='LSTM (area = {:.3f})'.format(auc_tf))\n",
        "plt.xlabel('False positive rate')\n",
        "plt.ylabel('True positive rate')\n",
        "plt.title('ROC curve')\n",
        "plt.legend()\n",
        "plt.show()"
      ],
      "execution_count": 115,
      "outputs": [
        {
          "output_type": "display_data",
          "data": {
            "image/png": "[encoded data removed]",
            "text/plain": [
              "<Figure size 432x288 with 1 Axes>"
            ]
          },
          "metadata": {
            "tags": [],
            "needs_background": "light"
          }
        }
      ]
    },
    {
      "cell_type": "markdown",
      "metadata": {
        "id": "tzyrzeQJ5Lr8"
      },
      "source": [
        "## Federated Training and preprocessing centrailized data"
      ]
    },
    {
      "cell_type": "markdown",
      "metadata": {
        "id": "Bmtnpe0k7LkP"
      },
      "source": [
        "### Generating a decentralized data"
      ]
    },
    {
      "cell_type": "code",
      "metadata": {
        "id": "s-mdaAoCIZd9",
        "outputId": "53fcdbd0-5113-4e16-f89c-b9d17f3ab6ef",
        "colab": {
          "base_uri": "https://localhost:8080/"
        }
      },
      "source": [
        "T_CLIENTS = 500\n",
        "CLIENT_SAMPLE_SIZE = len(X_train)/T_CLIENTS\n",
        "step = len(X_train)/T_CLIENTS\n",
        "\n",
        "data_fed = [ tf.data.Dataset.from_tensor_slices(\n",
        "         {\n",
        "          \"value\":X_train[int(i*step):int((i+1)*step)],\n",
        "          \"label\":Y_train[int(i*step):int((i+1)*step)]\n",
        "        }\n",
        "     ) for i in range(T_CLIENTS)]\n",
        "\n",
        "# client dataset can be accesed as data_fed[ CLIENT_ID ]\n",
        "example_dataset = data_fed[0]\n",
        "\n",
        "#   def preprocess(data_fed):\n",
        "#   def batch_format_fn(ele):\n",
        "\n",
        "example_element = next(iter(example_dataset))\n",
        "\n",
        "print(example_element[\"value\"].numpy()) # example_element[0] refers to X val\n",
        "print(example_element[\"label\"].numpy()) # example_element[1] refers to X val"
      ],
      "execution_count": 116,
      "outputs": [
        {
          "output_type": "stream",
          "text": [
            "[[0.]\n",
            " [0.]]\n",
            "[[1.]]\n"
          ],
          "name": "stdout"
        }
      ]
    },
    {
      "cell_type": "code",
      "metadata": {
        "id": "B1Wpqli6Vh2a"
      },
      "source": [
        "# preprocess\n",
        "\n",
        "NUM_CLIENTS = T_CLIENTS\n",
        "NUM_EPOCHS = 5\n",
        "BATCH_SIZE = int(CLIENT_SAMPLE_SIZE//2)\n",
        "SHUFFLE_BUFFER = 100\n",
        "PREFETCH_BUFFER = 10\n",
        "\n",
        "def preprocess(dataset):\n",
        "  \n",
        "  def batch_format_fn(element):\n",
        "    return collections.OrderedDict(\n",
        "        x=element[\"value\"],\n",
        "        y=element[\"label\"]\n",
        "    )\n",
        "  return dataset.repeat(NUM_EPOCHS).shuffle(SHUFFLE_BUFFER).batch(BATCH_SIZE).map(batch_format_fn).prefetch(PREFETCH_BUFFER)\n"
      ],
      "execution_count": 117,
      "outputs": []
    },
    {
      "cell_type": "code",
      "metadata": {
        "id": "uMHiDzm2WtjI",
        "outputId": "26c598c6-4e68-4f5e-ba0a-c5f67ff19241",
        "colab": {
          "base_uri": "https://localhost:8080/"
        }
      },
      "source": [
        "\n",
        "preprocessed_example_dataset = preprocess(example_dataset)\n",
        "\n",
        "sample_batch = tf.nest.map_structure(lambda x: x.numpy(),\n",
        "                                     next(iter(preprocessed_example_dataset)))\n",
        "\n",
        "sample_batch[\"x\"].shape"
      ],
      "execution_count": 118,
      "outputs": [
        {
          "output_type": "execute_result",
          "data": {
            "text/plain": [
              "(547, 2, 1)"
            ]
          },
          "metadata": {
            "tags": []
          },
          "execution_count": 118
        }
      ]
    },
    {
      "cell_type": "code",
      "metadata": {
        "id": "BMom1cGNXsRR"
      },
      "source": [
        "def make_federated_data(client_data,client_ids):\n",
        "  return [\n",
        "      preprocess(client_data[x])\n",
        "      for x in client_ids\n",
        "  ]\n"
      ],
      "execution_count": 119,
      "outputs": []
    },
    {
      "cell_type": "code",
      "metadata": {
        "id": "9rgHIDe4YB1w",
        "outputId": "e88c7b54-0978-434d-c01c-fc4c80762eec",
        "colab": {
          "base_uri": "https://localhost:8080/"
        }
      },
      "source": [
        "sample_clients = [x for x in range(NUM_CLIENTS)]\n",
        "\n",
        "federated_train_data = make_federated_data(data_fed, sample_clients)\n",
        "\n",
        "print('Number of client datasets: {l}'.format(l=len(federated_train_data)))\n",
        "print('First dataset: {d}'.format(d=federated_train_data[0]))\n"
      ],
      "execution_count": 120,
      "outputs": [
        {
          "output_type": "stream",
          "text": [
            "Number of client datasets: 500\n",
            "First dataset: <PrefetchDataset shapes: OrderedDict([(x, (None, 2, 1)), (y, (None, 1, 1))]), types: OrderedDict([(x, tf.float64), (y, tf.float64)])>\n"
          ],
          "name": "stdout"
        }
      ]
    },
    {
      "cell_type": "markdown",
      "metadata": {
        "id": "trf7VhCY9Mqe"
      },
      "source": [
        "### Creating the Iterative process"
      ]
    },
    {
      "cell_type": "code",
      "metadata": {
        "id": "KncNTVBU5JXO",
        "outputId": "6bb21851-5816-4c0c-96e5-5c9409ea656e",
        "colab": {
          "base_uri": "https://localhost:8080/",
          "height": 53
        }
      },
      "source": [
        "# model.compile(loss='mean_squared_error', optimizer='adam', metrics=['accuracy'])\n",
        "\n",
        "def model_fn():\n",
        "  keras_model = tf.keras.models.Sequential([\n",
        "      tf.keras.layers.LSTM(4,input_dim=1),\n",
        "      tf.keras.layers.Dense(1, activation='sigmoid')\n",
        "  ])\n",
        "  return tff.learning.from_keras_model(\n",
        "    keras_model,\n",
        "    input_spec=preprocessed_example_dataset.element_spec,\n",
        "    loss=tf.keras.losses.MeanSquaredError(),\n",
        "    metrics=[tf.keras.metrics.BinaryAccuracy()]\n",
        "  )\n",
        "\n",
        "iterative_process = tff.learning.build_federated_averaging_process(\n",
        "    model_fn,\n",
        "    client_optimizer_fn=lambda: tf.keras.optimizers.SGD(learning_rate=0.02),\n",
        "    server_optimizer_fn=lambda: tf.keras.optimizers.SGD(learning_rate=1.0))\n",
        "\n",
        "str(iterative_process.initialize.type_signature)\n"
      ],
      "execution_count": 121,
      "outputs": [
        {
          "output_type": "execute_result",
          "data": {
            "application/vnd.google.colaboratory.intrinsic+json": {
              "type": "string"
            },
            "text/plain": [
              "'( -> <model=<trainable=<float32[1,16],float32[4,16],float32[16],float32[4,1],float32[1]>,non_trainable=<>>,optimizer_state=<int64>,delta_aggregate_state=<value_sum_process=<>,weight_sum_process=<>>,model_broadcast_state=<>>@SERVER)'"
            ]
          },
          "metadata": {
            "tags": []
          },
          "execution_count": 121
        }
      ]
    },
    {
      "cell_type": "code",
      "metadata": {
        "id": "zybQ_rTkjRfm"
      },
      "source": [
        "state = iterative_process.initialize()\n",
        "tff_model = tf.keras.models.clone_model(model)\n",
        "tff_model.compile(\n",
        "    loss=tf.keras.losses.MeanSquaredError(),\n",
        "    optimizer=tf.keras.optimizers.SGD(),\n",
        "    metrics=[tf.keras.metrics.BinaryAccuracy()])\n",
        "\n",
        "def keras_evaluate(state, round_num):\n",
        "  state.model.assign_weights_to(tff_model)\n",
        "  loss, accuracy = tff_model.evaluate(X_test,Y_test, steps=2, verbose=0)\n",
        "  print('\\tEval: loss={l:.3f}, accuracy={a:.3f}'.format(l=loss, a=accuracy))"
      ],
      "execution_count": 122,
      "outputs": []
    },
    {
      "cell_type": "markdown",
      "metadata": {
        "id": "CQuAfSa29UXh"
      },
      "source": [
        "### Iterations"
      ]
    },
    {
      "cell_type": "code",
      "metadata": {
        "id": "S7Z1XlOgjgqK",
        "outputId": "a7762758-b64e-42ec-9dbf-925fd6a62153",
        "colab": {
          "base_uri": "https://localhost:8080/"
        }
      },
      "source": [
        "NUM_ROUNDS = 21\n",
        "CLIENT_PER_ROUND = 25\n",
        "for round_num in range(1, NUM_ROUNDS):\n",
        "  # 500 clients are selected for training in various rounds\n",
        "  # there are 10 rounds and each round takes data from 50 clients\n",
        "\n",
        "  clients = [round_num*x for x in range(1,CLIENT_PER_ROUND)]\n",
        "  federated_train_data = make_federated_data(data_fed, clients)\n",
        "  \n",
        "  print(\"ROUND \",round_num)\n",
        "  keras_evaluate(state, NUM_ROUNDS + 1) # eval before hand\n",
        "  state, metrics = iterative_process.next(state, federated_train_data)\n",
        "  print('\\tTrain: loss={}, accuracy={} '.format(round_num, metrics[\"train\"][\"loss\"],metrics[\"train\"][\"binary_accuracy\"]))\n",
        "\n",
        "keras_evaluate(state, NUM_ROUNDS + 1)"
      ],
      "execution_count": 123,
      "outputs": [
        {
          "output_type": "stream",
          "text": [
            "ROUND  1\n",
            "\tEval: loss=0.282, accuracy=0.065\n",
            "\tTrain: loss=1, accuracy=0.2811473608016968 \n",
            "ROUND  2\n",
            "\tEval: loss=0.277, accuracy=0.501\n",
            "\tTrain: loss=2, accuracy=0.23294705152511597 \n",
            "ROUND  3\n",
            "\tEval: loss=0.222, accuracy=0.935\n",
            "\tTrain: loss=3, accuracy=0.221094012260437 \n",
            "ROUND  4\n",
            "\tEval: loss=0.220, accuracy=0.935\n",
            "\tTrain: loss=4, accuracy=0.21946045756340027 \n",
            "ROUND  5\n",
            "\tEval: loss=0.219, accuracy=0.935\n",
            "\tTrain: loss=5, accuracy=0.21755963563919067 \n",
            "ROUND  6\n",
            "\tEval: loss=0.217, accuracy=0.935\n",
            "\tTrain: loss=6, accuracy=0.21589167416095734 \n",
            "ROUND  7\n",
            "\tEval: loss=0.215, accuracy=0.935\n",
            "\tTrain: loss=7, accuracy=0.21422787010669708 \n",
            "ROUND  8\n",
            "\tEval: loss=0.213, accuracy=0.935\n",
            "\tTrain: loss=8, accuracy=0.21226324141025543 \n",
            "ROUND  9\n",
            "\tEval: loss=0.212, accuracy=0.935\n",
            "\tTrain: loss=9, accuracy=0.21070891618728638 \n",
            "ROUND  10\n",
            "\tEval: loss=0.210, accuracy=0.935\n",
            "\tTrain: loss=10, accuracy=0.208683580160141 \n",
            "ROUND  11\n",
            "\tEval: loss=0.208, accuracy=0.935\n",
            "\tTrain: loss=11, accuracy=0.20738528668880463 \n",
            "ROUND  12\n",
            "\tEval: loss=0.206, accuracy=0.935\n",
            "\tTrain: loss=12, accuracy=0.20558251440525055 \n",
            "ROUND  13\n",
            "\tEval: loss=0.205, accuracy=0.935\n",
            "\tTrain: loss=13, accuracy=0.2042861133813858 \n",
            "ROUND  14\n",
            "\tEval: loss=0.203, accuracy=0.935\n",
            "\tTrain: loss=14, accuracy=0.20221400260925293 \n",
            "ROUND  15\n",
            "\tEval: loss=0.201, accuracy=0.935\n",
            "\tTrain: loss=15, accuracy=0.2001657783985138 \n",
            "ROUND  16\n",
            "\tEval: loss=0.200, accuracy=0.935\n",
            "\tTrain: loss=16, accuracy=0.19884729385375977 \n",
            "ROUND  17\n",
            "\tEval: loss=0.198, accuracy=0.935\n",
            "\tTrain: loss=17, accuracy=0.1971025913953781 \n",
            "ROUND  18\n",
            "\tEval: loss=0.196, accuracy=0.935\n",
            "\tTrain: loss=18, accuracy=0.19522497057914734 \n",
            "ROUND  19\n",
            "\tEval: loss=0.195, accuracy=0.935\n",
            "\tTrain: loss=19, accuracy=0.19394652545452118 \n",
            "ROUND  20\n",
            "\tEval: loss=0.193, accuracy=0.935\n",
            "\tTrain: loss=20, accuracy=0.19191767275333405 \n",
            "\tEval: loss=0.191, accuracy=0.935\n"
          ],
          "name": "stdout"
        }
      ]
    },
    {
      "cell_type": "code",
      "metadata": {
        "id": "QL1DYMZCS30F",
        "outputId": "502c7cbb-f7bb-40ad-d927-75b743f0a045",
        "colab": {
          "base_uri": "https://localhost:8080/",
          "height": 295
        }
      },
      "source": [
        "from sklearn.metrics import roc_curve\n",
        "from sklearn.metrics import auc\n",
        "\n",
        "# tensorflow LSTM \n",
        "Y_pred = model.predict(X_test).ravel()\n",
        "Y_pred.reshape(-1,1)\n",
        "fpr, tpr, threshold = roc_curve(Y_test.reshape(-1,1), Y_pred) \n",
        "auc_tf = auc(fpr,tpr)\n",
        "plt.plot(fpr, tpr, label='TF (area = {:.3f})'.format(auc_tf))\n",
        "\n",
        "\n",
        "# Federated Learning\n",
        "state.model.assign_weights_to(tff_model)\n",
        "\n",
        "Y_pred_tff = tff_model.predict(X_test).ravel()\n",
        "Y_pred_tff.reshape(-1,1)\n",
        "fpr_tff, tpr_tff, threshold_tff = roc_curve(Y_test.reshape(-1,1), Y_pred_tff) \n",
        "auc_tff = auc(fpr_tff,tpr_tff)\n",
        "plt.plot(fpr_tff, tpr_tff,'k', label='FL (area = {:.3f})'.format(auc_tff))\n",
        "plt.xlabel('False positive rate')\n",
        "plt.ylabel('True positive rate')\n",
        "plt.title('ROC curve')\n",
        "plt.legend()\n",
        "plt.show()"
      ],
      "execution_count": 124,
      "outputs": [
        {
          "output_type": "display_data",
          "data": {
            "image/png": "[encoded data removed]",
            "text/plain": [
              "<Figure size 432x288 with 1 Axes>"
            ]
          },
          "metadata": {
            "tags": [],
            "needs_background": "light"
          }
        }
      ]
    },
    {
      "cell_type": "markdown",
      "metadata": {
        "id": "HNjNgKcUmrBf"
      },
      "source": [
        "### Plots\n"
      ]
    },
    {
      "cell_type": "markdown",
      "metadata": {
        "id": "MIqNg1tD8GWo"
      },
      "source": [
        "#### ROC for various SNR  (TF vs TFF)"
      ]
    },
    {
      "cell_type": "code",
      "metadata": {
        "id": "4GW37W_mmqQo"
      },
      "source": [
        "# generating test-dataset for various snr\n",
        "\n",
        "N = 10**5\n",
        "\n",
        "h = np.random.randn(N) # h channel\n",
        "\n",
        "SNR_db = [2*i for i in range(-10,3)]\n",
        "data_dict = {}\n",
        "for snr_db in SNR_db:\n",
        "  signal = create_dataset(np.array(h).reshape(-1,1),snr_db,N,100)   \n",
        "  data = create_look_back(signal,2)\n",
        "  y = np.ones(len(data))\n",
        "\n",
        "  noise_signal = create_noise_sequence(N,100)\n",
        "  noise_data = create_look_back(noise_signal,2)\n",
        "\n",
        "  data = np.concatenate((data,noise_data))\n",
        "  y = np.concatenate((y,np.zeros(len(noise_data))))\n",
        "\n",
        "  data = data\n",
        "  data_dict[snr_db] = {}\n",
        "  data_dict[snr_db][\"x\"] = data.reshape((-1,2,1))\n",
        "  data_dict[snr_db][\"y\"] = y.reshape((-1,1,1))"
      ],
      "execution_count": 125,
      "outputs": []
    },
    {
      "cell_type": "code",
      "metadata": {
        "id": "DotG2romwsi_",
        "outputId": "a53cf893-58a0-4320-efc1-7d7c05037aff",
        "colab": {
          "base_uri": "https://localhost:8080/"
        }
      },
      "source": [
        "print(data_dict[-20][\"x\"].shape)\n",
        "data_dict[-20][\"y\"].shape\n"
      ],
      "execution_count": 126,
      "outputs": [
        {
          "output_type": "stream",
          "text": [
            "(199998, 2, 1)\n"
          ],
          "name": "stdout"
        },
        {
          "output_type": "execute_result",
          "data": {
            "text/plain": [
              "(199998, 1, 1)"
            ]
          },
          "metadata": {
            "tags": []
          },
          "execution_count": 126
        }
      ]
    },
    {
      "cell_type": "code",
      "metadata": {
        "id": "lnmM1s8Wu7pd",
        "outputId": "c47c390e-3aa9-416d-c4f7-3624e12907d1",
        "colab": {
          "base_uri": "https://localhost:8080/",
          "height": 382
        }
      },
      "source": [
        "# roc for various snr \n",
        "\n",
        "for snr_db in SNR_db:\n",
        "  # tensorflow_lstm\n",
        "  Y_pred_tf = model.predict(data_dict[snr_db][\"x\"])\n",
        "  Y_pred_tf.reshape(-1,1)\n",
        "  fpr, tpr, threshold = roc_curve(data_dict[snr_db][\"y\"].reshape(-1,1), Y_pred) \n",
        "  auc_tf = auc(fpr,tpr)\n",
        "  plt.plot(fpr, tpr, label='TF (snr = {:.3f})'.format(snr_db))\n",
        "  # tff_lstm\n",
        "  Y_pred_tff = tff_model.predict(data_dict[snr_db][\"x\"]).ravel()\n",
        "  Y_pred_tff.reshape(-1,1)\n",
        "  fpr_tff, tpr_tff, threshold_tff = roc_curve(data_dict[snr_db][\"y\"].reshape(-1,1), Y_pred_tff) \n",
        "  auc_tff = auc(fpr_tff,tpr_tff)\n",
        "  plt.plot(fpr_tff, tpr_tff,'k', label='FL (snr = {:.3f})'.format(snr_db))\n",
        "\n",
        "\n",
        "plt.legend()\n",
        "plt.show()"
      ],
      "execution_count": 127,
      "outputs": [
        {
          "output_type": "error",
          "ename": "ValueError",
          "evalue": "ignored",
          "traceback": [
            "\u001b[0;31m---------------------------------------------------------------------------\u001b[0m",
            "\u001b[0;31mValueError\u001b[0m                                Traceback (most recent call last)",
            "\u001b[0;32m<ipython-input-127-20e852bc0d76>\u001b[0m in \u001b[0;36m<module>\u001b[0;34m()\u001b[0m\n\u001b[1;32m      5\u001b[0m   \u001b[0mY_pred_tf\u001b[0m \u001b[0;34m=\u001b[0m \u001b[0mmodel\u001b[0m\u001b[0;34m.\u001b[0m\u001b[0mpredict\u001b[0m\u001b[0;34m(\u001b[0m\u001b[0mdata_dict\u001b[0m\u001b[0;34m[\u001b[0m\u001b[0msnr_db\u001b[0m\u001b[0;34m]\u001b[0m\u001b[0;34m[\u001b[0m\u001b[0;34m\"x\"\u001b[0m\u001b[0;34m]\u001b[0m\u001b[0;34m)\u001b[0m\u001b[0;34m\u001b[0m\u001b[0;34m\u001b[0m\u001b[0m\n\u001b[1;32m      6\u001b[0m   \u001b[0mY_pred_tf\u001b[0m\u001b[0;34m.\u001b[0m\u001b[0mreshape\u001b[0m\u001b[0;34m(\u001b[0m\u001b[0;34m-\u001b[0m\u001b[0;36m1\u001b[0m\u001b[0;34m,\u001b[0m\u001b[0;36m1\u001b[0m\u001b[0;34m)\u001b[0m\u001b[0;34m\u001b[0m\u001b[0;34m\u001b[0m\u001b[0m\n\u001b[0;32m----> 7\u001b[0;31m   \u001b[0mfpr\u001b[0m\u001b[0;34m,\u001b[0m \u001b[0mtpr\u001b[0m\u001b[0;34m,\u001b[0m \u001b[0mthreshold\u001b[0m \u001b[0;34m=\u001b[0m \u001b[0mroc_curve\u001b[0m\u001b[0;34m(\u001b[0m\u001b[0mdata_dict\u001b[0m\u001b[0;34m[\u001b[0m\u001b[0msnr_db\u001b[0m\u001b[0;34m]\u001b[0m\u001b[0;34m[\u001b[0m\u001b[0;34m\"y\"\u001b[0m\u001b[0;34m]\u001b[0m\u001b[0;34m.\u001b[0m\u001b[0mreshape\u001b[0m\u001b[0;34m(\u001b[0m\u001b[0;34m-\u001b[0m\u001b[0;36m1\u001b[0m\u001b[0;34m,\u001b[0m\u001b[0;36m1\u001b[0m\u001b[0;34m)\u001b[0m\u001b[0;34m,\u001b[0m \u001b[0mY_pred\u001b[0m\u001b[0;34m)\u001b[0m\u001b[0;34m\u001b[0m\u001b[0;34m\u001b[0m\u001b[0m\n\u001b[0m\u001b[1;32m      8\u001b[0m   \u001b[0mauc_tf\u001b[0m \u001b[0;34m=\u001b[0m \u001b[0mauc\u001b[0m\u001b[0;34m(\u001b[0m\u001b[0mfpr\u001b[0m\u001b[0;34m,\u001b[0m\u001b[0mtpr\u001b[0m\u001b[0;34m)\u001b[0m\u001b[0;34m\u001b[0m\u001b[0;34m\u001b[0m\u001b[0m\n\u001b[1;32m      9\u001b[0m   \u001b[0mplt\u001b[0m\u001b[0;34m.\u001b[0m\u001b[0mplot\u001b[0m\u001b[0;34m(\u001b[0m\u001b[0mfpr\u001b[0m\u001b[0;34m,\u001b[0m \u001b[0mtpr\u001b[0m\u001b[0;34m,\u001b[0m \u001b[0mlabel\u001b[0m\u001b[0;34m=\u001b[0m\u001b[0;34m'TF (snr = {:.3f})'\u001b[0m\u001b[0;34m.\u001b[0m\u001b[0mformat\u001b[0m\u001b[0;34m(\u001b[0m\u001b[0msnr_db\u001b[0m\u001b[0;34m)\u001b[0m\u001b[0;34m)\u001b[0m\u001b[0;34m\u001b[0m\u001b[0;34m\u001b[0m\u001b[0m\n",
            "\u001b[0;32m/usr/local/lib/python3.6/dist-packages/sklearn/metrics/_ranking.py\u001b[0m in \u001b[0;36mroc_curve\u001b[0;34m(y_true, y_score, pos_label, sample_weight, drop_intermediate)\u001b[0m\n\u001b[1;32m    769\u001b[0m     \"\"\"\n\u001b[1;32m    770\u001b[0m     fps, tps, thresholds = _binary_clf_curve(\n\u001b[0;32m--> 771\u001b[0;31m         y_true, y_score, pos_label=pos_label, sample_weight=sample_weight)\n\u001b[0m\u001b[1;32m    772\u001b[0m \u001b[0;34m\u001b[0m\u001b[0m\n\u001b[1;32m    773\u001b[0m     \u001b[0;31m# Attempt to drop thresholds corresponding to points in between and\u001b[0m\u001b[0;34m\u001b[0m\u001b[0;34m\u001b[0m\u001b[0;34m\u001b[0m\u001b[0m\n",
            "\u001b[0;32m/usr/local/lib/python3.6/dist-packages/sklearn/metrics/_ranking.py\u001b[0m in \u001b[0;36m_binary_clf_curve\u001b[0;34m(y_true, y_score, pos_label, sample_weight)\u001b[0m\n\u001b[1;32m    536\u001b[0m         \u001b[0;32mraise\u001b[0m \u001b[0mValueError\u001b[0m\u001b[0;34m(\u001b[0m\u001b[0;34m\"{0} format is not supported\"\u001b[0m\u001b[0;34m.\u001b[0m\u001b[0mformat\u001b[0m\u001b[0;34m(\u001b[0m\u001b[0my_type\u001b[0m\u001b[0;34m)\u001b[0m\u001b[0;34m)\u001b[0m\u001b[0;34m\u001b[0m\u001b[0;34m\u001b[0m\u001b[0m\n\u001b[1;32m    537\u001b[0m \u001b[0;34m\u001b[0m\u001b[0m\n\u001b[0;32m--> 538\u001b[0;31m     \u001b[0mcheck_consistent_length\u001b[0m\u001b[0;34m(\u001b[0m\u001b[0my_true\u001b[0m\u001b[0;34m,\u001b[0m \u001b[0my_score\u001b[0m\u001b[0;34m,\u001b[0m \u001b[0msample_weight\u001b[0m\u001b[0;34m)\u001b[0m\u001b[0;34m\u001b[0m\u001b[0;34m\u001b[0m\u001b[0m\n\u001b[0m\u001b[1;32m    539\u001b[0m     \u001b[0my_true\u001b[0m \u001b[0;34m=\u001b[0m \u001b[0mcolumn_or_1d\u001b[0m\u001b[0;34m(\u001b[0m\u001b[0my_true\u001b[0m\u001b[0;34m)\u001b[0m\u001b[0;34m\u001b[0m\u001b[0;34m\u001b[0m\u001b[0m\n\u001b[1;32m    540\u001b[0m     \u001b[0my_score\u001b[0m \u001b[0;34m=\u001b[0m \u001b[0mcolumn_or_1d\u001b[0m\u001b[0;34m(\u001b[0m\u001b[0my_score\u001b[0m\u001b[0;34m)\u001b[0m\u001b[0;34m\u001b[0m\u001b[0;34m\u001b[0m\u001b[0m\n",
            "\u001b[0;32m/usr/local/lib/python3.6/dist-packages/sklearn/utils/validation.py\u001b[0m in \u001b[0;36mcheck_consistent_length\u001b[0;34m(*arrays)\u001b[0m\n\u001b[1;32m    210\u001b[0m     \u001b[0;32mif\u001b[0m \u001b[0mlen\u001b[0m\u001b[0;34m(\u001b[0m\u001b[0muniques\u001b[0m\u001b[0;34m)\u001b[0m \u001b[0;34m>\u001b[0m \u001b[0;36m1\u001b[0m\u001b[0;34m:\u001b[0m\u001b[0;34m\u001b[0m\u001b[0;34m\u001b[0m\u001b[0m\n\u001b[1;32m    211\u001b[0m         raise ValueError(\"Found input variables with inconsistent numbers of\"\n\u001b[0;32m--> 212\u001b[0;31m                          \" samples: %r\" % [int(l) for l in lengths])\n\u001b[0m\u001b[1;32m    213\u001b[0m \u001b[0;34m\u001b[0m\u001b[0m\n\u001b[1;32m    214\u001b[0m \u001b[0;34m\u001b[0m\u001b[0m\n",
            "\u001b[0;31mValueError\u001b[0m: Found input variables with inconsistent numbers of samples: [199998, 136850]"
          ]
        }
      ]
    },
    {
      "cell_type": "markdown",
      "metadata": {
        "id": "X7s7q6AXf6YK"
      },
      "source": [
        "# Cooperative Spectrum Sensing using LSTM model"
      ]
    },
    {
      "cell_type": "code",
      "metadata": {
        "id": "pKi_e6eIEWt-"
      },
      "source": [
        "# imports\n",
        "import numpy as np\n",
        "import math\n",
        "from scipy.stats import norm\n",
        "import matplotlib.pyplot as plt\n",
        "import tensorflow as tf\n",
        "from tensorflow import keras\n",
        "from typing import List"
      ],
      "execution_count": 128,
      "outputs": []
    },
    {
      "cell_type": "code",
      "metadata": {
        "id": "Ik0_D1rVgE0a"
      },
      "source": [
        "# qfuncinv similar to one in matlab\n",
        "def qfuncinv(x):\n",
        "    return -1*norm.ppf(x)"
      ],
      "execution_count": 129,
      "outputs": []
    },
    {
      "cell_type": "code",
      "metadata": {
        "id": "HRwY42TKgJCR"
      },
      "source": [
        "# initializing variable\n",
        "\n",
        "L = 100      # sample size\n",
        "N = 100     # number of simulations\n",
        "nodes = 5     # number of Sec Users\n",
        "\n",
        "SNR_db =  np.arange(-20,-18)    # snr range in dB\n",
        "# SNR_lin = 10**(SNR_db/10)     # snr - linear\n",
        "\n",
        "# Remove this part to include the ML model \n",
        "\n",
        "Pf = 0.2     # const probability of false alarm\n",
        "\n",
        "Threshold = (qfuncinv(Pf)/math.sqrt(L)) + 1"
      ],
      "execution_count": 137,
      "outputs": []
    },
    {
      "cell_type": "code",
      "metadata": {
        "id": "bt_yMKYwhMbO",
        "outputId": "63f64c50-d4f0-4ff9-92eb-94e629664256",
        "colab": {
          "base_uri": "https://localhost:8080/",
          "height": 330
        }
      },
      "source": [
        "#  Simulation for Pd\n",
        "\n",
        "# prediction based on lstm model\n",
        "def detection_tf(energy_stat,energy_stat_pre) -> bool:\n",
        "  return model.predict([[[energy_stat],[energy_stat_pre]]]).reshape((-1))[0] >= 0.5\n",
        "\n",
        "def detection_tff(energy_stat,energy_stat_pre) -> bool:\n",
        "  return tff_model.predict([[[energy_stat],[energy_stat_pre]]]).reshape((-1))[0] >= 0.5\n",
        "# OR_based fusion \n",
        "def detect_func_OR(arr)-> np.ndarray:\n",
        "  return np.sum(arr) > 0\n",
        "\n",
        "# AND_based fusion \n",
        "def detect_func_AND(arr:List[bool])-> np.ndarray:\n",
        "  return np.multiply.reduce(arr) == 1\n",
        "\n",
        "# Majority_based fusion\n",
        "def detect_func_M(arr:List[bool])-> np.ndarray:\n",
        "  return np.count_nonzero(arr)/len(arr) >= 0.5\n",
        "\n",
        "\n",
        "Pd_OR_tf = np.array([])\n",
        "Pd_AND_tf = np.array([])\n",
        "Pd_M_tf = np.array([])\n",
        "\n",
        "Pd_OR_tff = np.array([])\n",
        "Pd_AND_tff = np.array([])\n",
        "Pd_M_tff = np.array([])\n",
        "\n",
        "for snr_db in SNR_db:\n",
        "\n",
        "  detect_OR_tf = 0\n",
        "  detect_AND_tf = 0\n",
        "  detect_M_tf = 0\n",
        "\n",
        "  detect_OR_tff = 0\n",
        "  detect_AND_tff = 0\n",
        "  detect_M_tff = 0\n",
        "\n",
        "\n",
        "  print(\"At snr :\",snr_db)\n",
        "\n",
        "  Energy_stat_pre = np.array([])\n",
        "  for _ in range(N):\n",
        "    noise = np.random.randn(L,nodes) #nodesxL\n",
        "\n",
        "    signal = math.sqrt(10**(snr_db/10))*np.random.randn(L,nodes)\n",
        "\n",
        "    Rec_signal = signal + noise\n",
        "        \n",
        "    Energy_stat = np.sum(np.abs(Rec_signal**2) ,axis=0) \n",
        "            \n",
        "    if not Energy_stat_pre.any():\n",
        "      Energy_stat_pre = Energy_stat\n",
        "\n",
        "    det_tf = [detection_tf(Energy_stat[x],Energy_stat_pre[x]) for x in range(nodes)]\n",
        "    #det_tff = [detection_tff(Energy_stat[x],Energy_stat_pre[x]) for x in range(nodes)]\n",
        "\n",
        "    Energy_stat_pre = Energy_stat\n",
        "    #print(detect)\n",
        "\n",
        "    if detect_func_AND(det_tf):\n",
        "      detect_AND_tf += 1\n",
        "\n",
        "    # if detect_func_AND(det_tff):\n",
        "    #   detect_AND_tff += 1\n",
        "\n",
        "    if detect_func_OR(det_tf):\n",
        "      detect_OR_tf += 1\n",
        "\n",
        "    # if detect_func_OR(det_tff):\n",
        "    #   detect_OR_tff += 1\n",
        "\n",
        "    if detect_func_M(det_tf):\n",
        "      detect_M_tf += 1\n",
        "\n",
        "    # if detect_func_M(det_tff):\n",
        "    #   detect_M_tff += 1\n",
        "\n",
        "  Pd_OR_tf = np.append(Pd_OR_tf,detect_OR_tf/N)\n",
        "  Pd_AND_tf = np.append(Pd_AND_tf,detect_AND_tf/N)\n",
        "  Pd_M_tf = np.append(Pd_M_tf,detect_M_tf/N)\n",
        "\n",
        "  #Pd_OR_tff = np.append(Pd_OR_tff,detect_OR_tff/N)\n",
        "  #Pd_AND_tff = np.append(Pd_AND_tff,detect_AND_tff/N)\n",
        "  #Pd_M_tff = np.append(Pd_M_tff,detect_M_tff/N)\n",
        "\n",
        "#plot\n",
        "plt.plot(SNR_db,Pd_OR_tf,'bo-',SNR_db,Pd_AND_tf,'ro-',SNR_db,Pd_M_tf,'ko-')\n",
        "# plot properties\n",
        "plt.xlabel(\"Signal To Noise Ratio (dB)\")\n",
        "plt.ylabel(\"Probability of Detection (P_d)\")\n",
        "plt.title(\"P_d v/s SNR (TF vs TFF comparision)\")\n",
        "#,\"Pd_OR_tff\",\"Pd_AND_tff\",\"Pd_M_tff\"\n",
        "plt.legend([\"Pd_OR_tf\",\"Pd_AND_tf\",\"Pd_M_tf\"])\n",
        "plt.grid()\n",
        "plt.show()"
      ],
      "execution_count": 139,
      "outputs": [
        {
          "output_type": "stream",
          "text": [
            "At snr : -20\n",
            "At snr : -19\n"
          ],
          "name": "stdout"
        },
        {
          "output_type": "display_data",
          "data": {
            "image/png": "[encoded data removed]",
            "text/plain": [
              "<Figure size 432x288 with 1 Axes>"
            ]
          },
          "metadata": {
            "tags": [],
            "needs_background": "light"
          }
        }
      ]
    },
    {
      "cell_type": "code",
      "metadata": {
        "id": "Q9_3iQKqMv79",
        "outputId": "1b7df2dc-fd11-47b0-8c27-7a912338a332",
        "colab": {
          "base_uri": "https://localhost:8080/",
          "height": 452
        }
      },
      "source": [
        "N = 100\n",
        "SNR_db = np.arange(-20,5,2)\n",
        "markers = [\".\",\"o\",\"8\",\"^\"]\n",
        "i = 0\n",
        "for k in [1,2,5,10]: # number of nodes / SU\n",
        "  print(\"K =\",str(k))\n",
        "\n",
        "  Pd_OR = np.array([])\n",
        "\n",
        "  for snr_db in SNR_db:\n",
        "\n",
        "    detect_OR = 0\n",
        "\n",
        "    print(\"\\tAt snr :\",snr_db)\n",
        "\n",
        "    Energy_stat_pre = np.array([])\n",
        "    for _ in range(N):\n",
        "      noise = np.random.randn(L,k)\n",
        "\n",
        "      signal = math.sqrt(10**(snr_db/10))*np.random.randn(L,k)\n",
        "\n",
        "      Rec_signal = signal + noise \n",
        "\n",
        "      Energy_stat = np.sum(np.abs(Rec_signal**2) ,axis=0) \n",
        "\n",
        "      if not Energy_stat_pre.any():\n",
        "        Energy_stat_pre = Energy_stat\n",
        "\n",
        "      detect = [detection(Energy_stat[x],Energy_stat_pre[x]) for x in range(k)]\n",
        "\n",
        "      Energy_stat_pre = Energy_stat\n",
        "      #print(detect)\n",
        "\n",
        "      if detect_func_OR(detect):\n",
        "        detect_OR += 1\n",
        "\n",
        "\n",
        "    Pd_OR = np.append(Pd_OR,detect_OR/N)\n",
        "\n",
        "  #plot\n",
        "  plt.plot(\n",
        "      SNR_db,\n",
        "      Pd_OR,\n",
        "      marker=markers[i],\n",
        "      linestyle='dashed',\n",
        "      label=str(\"K = \"+str(k))\n",
        "      )\n",
        "  i += 1\n",
        "# plot properties\n",
        "plt.title(\"P_d v/s SNR for OR-based fusion\")\n",
        "plt.ylabel(\"Probability of Detection (P_d)\")\n",
        "plt.xlabel(\"Signal To Noise Ratio (dB)\")\n",
        "plt.legend()\n",
        "plt.grid()\n",
        "plt.show()"
      ],
      "execution_count": 136,
      "outputs": [
        {
          "output_type": "stream",
          "text": [
            "K = 1\n",
            "\tAt snr : -20\n",
            "\tAt snr : -18\n"
          ],
          "name": "stdout"
        },
        {
          "output_type": "error",
          "ename": "KeyboardInterrupt",
          "evalue": "ignored",
          "traceback": [
            "\u001b[0;31m---------------------------------------------------------------------------\u001b[0m",
            "\u001b[0;31mKeyboardInterrupt\u001b[0m                         Traceback (most recent call last)",
            "\u001b[0;32m<ipython-input-136-ae2564bf0956>\u001b[0m in \u001b[0;36m<module>\u001b[0;34m()\u001b[0m\n\u001b[1;32m     27\u001b[0m         \u001b[0mEnergy_stat_pre\u001b[0m \u001b[0;34m=\u001b[0m \u001b[0mEnergy_stat\u001b[0m\u001b[0;34m\u001b[0m\u001b[0;34m\u001b[0m\u001b[0m\n\u001b[1;32m     28\u001b[0m \u001b[0;34m\u001b[0m\u001b[0m\n\u001b[0;32m---> 29\u001b[0;31m       \u001b[0mdetect\u001b[0m \u001b[0;34m=\u001b[0m \u001b[0;34m[\u001b[0m\u001b[0mdetection\u001b[0m\u001b[0;34m(\u001b[0m\u001b[0mEnergy_stat\u001b[0m\u001b[0;34m[\u001b[0m\u001b[0mx\u001b[0m\u001b[0;34m]\u001b[0m\u001b[0;34m,\u001b[0m\u001b[0mEnergy_stat_pre\u001b[0m\u001b[0;34m[\u001b[0m\u001b[0mx\u001b[0m\u001b[0;34m]\u001b[0m\u001b[0;34m)\u001b[0m \u001b[0;32mfor\u001b[0m \u001b[0mx\u001b[0m \u001b[0;32min\u001b[0m \u001b[0mrange\u001b[0m\u001b[0;34m(\u001b[0m\u001b[0mk\u001b[0m\u001b[0;34m)\u001b[0m\u001b[0;34m]\u001b[0m\u001b[0;34m\u001b[0m\u001b[0;34m\u001b[0m\u001b[0m\n\u001b[0m\u001b[1;32m     30\u001b[0m \u001b[0;34m\u001b[0m\u001b[0m\n\u001b[1;32m     31\u001b[0m       \u001b[0mEnergy_stat_pre\u001b[0m \u001b[0;34m=\u001b[0m \u001b[0mEnergy_stat\u001b[0m\u001b[0;34m\u001b[0m\u001b[0;34m\u001b[0m\u001b[0m\n",
            "\u001b[0;32m<ipython-input-136-ae2564bf0956>\u001b[0m in \u001b[0;36m<listcomp>\u001b[0;34m(.0)\u001b[0m\n\u001b[1;32m     27\u001b[0m         \u001b[0mEnergy_stat_pre\u001b[0m \u001b[0;34m=\u001b[0m \u001b[0mEnergy_stat\u001b[0m\u001b[0;34m\u001b[0m\u001b[0;34m\u001b[0m\u001b[0m\n\u001b[1;32m     28\u001b[0m \u001b[0;34m\u001b[0m\u001b[0m\n\u001b[0;32m---> 29\u001b[0;31m       \u001b[0mdetect\u001b[0m \u001b[0;34m=\u001b[0m \u001b[0;34m[\u001b[0m\u001b[0mdetection\u001b[0m\u001b[0;34m(\u001b[0m\u001b[0mEnergy_stat\u001b[0m\u001b[0;34m[\u001b[0m\u001b[0mx\u001b[0m\u001b[0;34m]\u001b[0m\u001b[0;34m,\u001b[0m\u001b[0mEnergy_stat_pre\u001b[0m\u001b[0;34m[\u001b[0m\u001b[0mx\u001b[0m\u001b[0;34m]\u001b[0m\u001b[0;34m)\u001b[0m \u001b[0;32mfor\u001b[0m \u001b[0mx\u001b[0m \u001b[0;32min\u001b[0m \u001b[0mrange\u001b[0m\u001b[0;34m(\u001b[0m\u001b[0mk\u001b[0m\u001b[0;34m)\u001b[0m\u001b[0;34m]\u001b[0m\u001b[0;34m\u001b[0m\u001b[0;34m\u001b[0m\u001b[0m\n\u001b[0m\u001b[1;32m     30\u001b[0m \u001b[0;34m\u001b[0m\u001b[0m\n\u001b[1;32m     31\u001b[0m       \u001b[0mEnergy_stat_pre\u001b[0m \u001b[0;34m=\u001b[0m \u001b[0mEnergy_stat\u001b[0m\u001b[0;34m\u001b[0m\u001b[0;34m\u001b[0m\u001b[0m\n",
            "\u001b[0;32m<ipython-input-131-0fdd9bd289e9>\u001b[0m in \u001b[0;36mdetection\u001b[0;34m(energy_stat, energy_stat_pre)\u001b[0m\n\u001b[1;32m      3\u001b[0m \u001b[0;31m# prediction based on lstm model\u001b[0m\u001b[0;34m\u001b[0m\u001b[0;34m\u001b[0m\u001b[0;34m\u001b[0m\u001b[0m\n\u001b[1;32m      4\u001b[0m \u001b[0;32mdef\u001b[0m \u001b[0mdetection\u001b[0m\u001b[0;34m(\u001b[0m\u001b[0menergy_stat\u001b[0m\u001b[0;34m,\u001b[0m\u001b[0menergy_stat_pre\u001b[0m\u001b[0;34m)\u001b[0m \u001b[0;34m->\u001b[0m \u001b[0mbool\u001b[0m\u001b[0;34m:\u001b[0m\u001b[0;34m\u001b[0m\u001b[0;34m\u001b[0m\u001b[0m\n\u001b[0;32m----> 5\u001b[0;31m   \u001b[0mdet_tff\u001b[0m \u001b[0;34m=\u001b[0m \u001b[0mtff_model\u001b[0m\u001b[0;34m.\u001b[0m\u001b[0mpredict\u001b[0m\u001b[0;34m(\u001b[0m\u001b[0;34m[\u001b[0m\u001b[0;34m[\u001b[0m\u001b[0;34m[\u001b[0m\u001b[0menergy_stat\u001b[0m\u001b[0;34m]\u001b[0m\u001b[0;34m,\u001b[0m\u001b[0;34m[\u001b[0m\u001b[0menergy_stat_pre\u001b[0m\u001b[0;34m]\u001b[0m\u001b[0;34m]\u001b[0m\u001b[0;34m]\u001b[0m\u001b[0;34m)\u001b[0m\u001b[0;34m.\u001b[0m\u001b[0mreshape\u001b[0m\u001b[0;34m(\u001b[0m\u001b[0;34m(\u001b[0m\u001b[0;34m-\u001b[0m\u001b[0;36m1\u001b[0m\u001b[0;34m)\u001b[0m\u001b[0;34m)\u001b[0m\u001b[0;34m[\u001b[0m\u001b[0;36m0\u001b[0m\u001b[0;34m]\u001b[0m \u001b[0;34m>=\u001b[0m \u001b[0;36m0.5\u001b[0m\u001b[0;34m\u001b[0m\u001b[0;34m\u001b[0m\u001b[0m\n\u001b[0m\u001b[1;32m      6\u001b[0m   \u001b[0mdet_tf\u001b[0m \u001b[0;34m=\u001b[0m \u001b[0mmodel\u001b[0m\u001b[0;34m.\u001b[0m\u001b[0mpredict\u001b[0m\u001b[0;34m(\u001b[0m\u001b[0;34m[\u001b[0m\u001b[0;34m[\u001b[0m\u001b[0;34m[\u001b[0m\u001b[0menergy_stat\u001b[0m\u001b[0;34m]\u001b[0m\u001b[0;34m,\u001b[0m\u001b[0;34m[\u001b[0m\u001b[0menergy_stat_pre\u001b[0m\u001b[0;34m]\u001b[0m\u001b[0;34m]\u001b[0m\u001b[0;34m]\u001b[0m\u001b[0;34m)\u001b[0m\u001b[0;34m.\u001b[0m\u001b[0mreshape\u001b[0m\u001b[0;34m(\u001b[0m\u001b[0;34m(\u001b[0m\u001b[0;34m-\u001b[0m\u001b[0;36m1\u001b[0m\u001b[0;34m)\u001b[0m\u001b[0;34m)\u001b[0m\u001b[0;34m[\u001b[0m\u001b[0;36m0\u001b[0m\u001b[0;34m]\u001b[0m \u001b[0;34m>=\u001b[0m \u001b[0;36m0.5\u001b[0m\u001b[0;34m\u001b[0m\u001b[0;34m\u001b[0m\u001b[0m\n\u001b[1;32m      7\u001b[0m   \u001b[0;32mreturn\u001b[0m \u001b[0mdet_tf\u001b[0m\u001b[0;34m,\u001b[0m\u001b[0mdet_tff\u001b[0m\u001b[0;34m\u001b[0m\u001b[0;34m\u001b[0m\u001b[0m\n",
            "\u001b[0;32m/usr/local/lib/python3.6/dist-packages/tensorflow/python/keras/engine/training.py\u001b[0m in \u001b[0;36mpredict\u001b[0;34m(self, x, batch_size, verbose, steps, callbacks, max_queue_size, workers, use_multiprocessing)\u001b[0m\n\u001b[1;32m   1626\u001b[0m       \u001b[0mcallbacks\u001b[0m\u001b[0;34m.\u001b[0m\u001b[0mon_predict_begin\u001b[0m\u001b[0;34m(\u001b[0m\u001b[0;34m)\u001b[0m\u001b[0;34m\u001b[0m\u001b[0;34m\u001b[0m\u001b[0m\n\u001b[1;32m   1627\u001b[0m       \u001b[0mbatch_outputs\u001b[0m \u001b[0;34m=\u001b[0m \u001b[0;32mNone\u001b[0m\u001b[0;34m\u001b[0m\u001b[0;34m\u001b[0m\u001b[0m\n\u001b[0;32m-> 1628\u001b[0;31m       \u001b[0;32mfor\u001b[0m \u001b[0m_\u001b[0m\u001b[0;34m,\u001b[0m \u001b[0miterator\u001b[0m \u001b[0;32min\u001b[0m \u001b[0mdata_handler\u001b[0m\u001b[0;34m.\u001b[0m\u001b[0menumerate_epochs\u001b[0m\u001b[0;34m(\u001b[0m\u001b[0;34m)\u001b[0m\u001b[0;34m:\u001b[0m  \u001b[0;31m# Single epoch.\u001b[0m\u001b[0;34m\u001b[0m\u001b[0;34m\u001b[0m\u001b[0m\n\u001b[0m\u001b[1;32m   1629\u001b[0m         \u001b[0;32mwith\u001b[0m \u001b[0mdata_handler\u001b[0m\u001b[0;34m.\u001b[0m\u001b[0mcatch_stop_iteration\u001b[0m\u001b[0;34m(\u001b[0m\u001b[0;34m)\u001b[0m\u001b[0;34m:\u001b[0m\u001b[0;34m\u001b[0m\u001b[0;34m\u001b[0m\u001b[0m\n\u001b[1;32m   1630\u001b[0m           \u001b[0;32mfor\u001b[0m \u001b[0mstep\u001b[0m \u001b[0;32min\u001b[0m \u001b[0mdata_handler\u001b[0m\u001b[0;34m.\u001b[0m\u001b[0msteps\u001b[0m\u001b[0;34m(\u001b[0m\u001b[0;34m)\u001b[0m\u001b[0;34m:\u001b[0m\u001b[0;34m\u001b[0m\u001b[0;34m\u001b[0m\u001b[0m\n",
            "\u001b[0;32m/usr/local/lib/python3.6/dist-packages/tensorflow/python/keras/engine/data_adapter.py\u001b[0m in \u001b[0;36menumerate_epochs\u001b[0;34m(self)\u001b[0m\n\u001b[1;32m   1131\u001b[0m     \u001b[0;34m\"\"\"Yields `(epoch, tf.data.Iterator)`.\"\"\"\u001b[0m\u001b[0;34m\u001b[0m\u001b[0;34m\u001b[0m\u001b[0m\n\u001b[1;32m   1132\u001b[0m     \u001b[0;32mwith\u001b[0m \u001b[0mself\u001b[0m\u001b[0;34m.\u001b[0m\u001b[0m_truncate_execution_to_epoch\u001b[0m\u001b[0;34m(\u001b[0m\u001b[0;34m)\u001b[0m\u001b[0;34m:\u001b[0m\u001b[0;34m\u001b[0m\u001b[0;34m\u001b[0m\u001b[0m\n\u001b[0;32m-> 1133\u001b[0;31m       \u001b[0mdata_iterator\u001b[0m \u001b[0;34m=\u001b[0m \u001b[0miter\u001b[0m\u001b[0;34m(\u001b[0m\u001b[0mself\u001b[0m\u001b[0;34m.\u001b[0m\u001b[0m_dataset\u001b[0m\u001b[0;34m)\u001b[0m\u001b[0;34m\u001b[0m\u001b[0;34m\u001b[0m\u001b[0m\n\u001b[0m\u001b[1;32m   1134\u001b[0m       \u001b[0;32mfor\u001b[0m \u001b[0mepoch\u001b[0m \u001b[0;32min\u001b[0m \u001b[0mrange\u001b[0m\u001b[0;34m(\u001b[0m\u001b[0mself\u001b[0m\u001b[0;34m.\u001b[0m\u001b[0m_initial_epoch\u001b[0m\u001b[0;34m,\u001b[0m \u001b[0mself\u001b[0m\u001b[0;34m.\u001b[0m\u001b[0m_epochs\u001b[0m\u001b[0;34m)\u001b[0m\u001b[0;34m:\u001b[0m\u001b[0;34m\u001b[0m\u001b[0;34m\u001b[0m\u001b[0m\n\u001b[1;32m   1135\u001b[0m         \u001b[0;32mif\u001b[0m \u001b[0mself\u001b[0m\u001b[0;34m.\u001b[0m\u001b[0m_insufficient_data\u001b[0m\u001b[0;34m:\u001b[0m  \u001b[0;31m# Set by `catch_stop_iteration`.\u001b[0m\u001b[0;34m\u001b[0m\u001b[0;34m\u001b[0m\u001b[0m\n",
            "\u001b[0;32m/usr/local/lib/python3.6/dist-packages/tensorflow/python/data/ops/dataset_ops.py\u001b[0m in \u001b[0;36m__iter__\u001b[0;34m(self)\u001b[0m\n\u001b[1;32m    420\u001b[0m     \u001b[0;32mif\u001b[0m \u001b[0mcontext\u001b[0m\u001b[0;34m.\u001b[0m\u001b[0mexecuting_eagerly\u001b[0m\u001b[0;34m(\u001b[0m\u001b[0;34m)\u001b[0m \u001b[0;32mor\u001b[0m \u001b[0mops\u001b[0m\u001b[0;34m.\u001b[0m\u001b[0minside_function\u001b[0m\u001b[0;34m(\u001b[0m\u001b[0;34m)\u001b[0m\u001b[0;34m:\u001b[0m\u001b[0;34m\u001b[0m\u001b[0;34m\u001b[0m\u001b[0m\n\u001b[1;32m    421\u001b[0m       \u001b[0;32mwith\u001b[0m \u001b[0mops\u001b[0m\u001b[0;34m.\u001b[0m\u001b[0mcolocate_with\u001b[0m\u001b[0;34m(\u001b[0m\u001b[0mself\u001b[0m\u001b[0;34m.\u001b[0m\u001b[0m_variant_tensor\u001b[0m\u001b[0;34m)\u001b[0m\u001b[0;34m:\u001b[0m\u001b[0;34m\u001b[0m\u001b[0;34m\u001b[0m\u001b[0m\n\u001b[0;32m--> 422\u001b[0;31m         \u001b[0;32mreturn\u001b[0m \u001b[0miterator_ops\u001b[0m\u001b[0;34m.\u001b[0m\u001b[0mOwnedIterator\u001b[0m\u001b[0;34m(\u001b[0m\u001b[0mself\u001b[0m\u001b[0;34m)\u001b[0m\u001b[0;34m\u001b[0m\u001b[0;34m\u001b[0m\u001b[0m\n\u001b[0m\u001b[1;32m    423\u001b[0m     \u001b[0;32melse\u001b[0m\u001b[0;34m:\u001b[0m\u001b[0;34m\u001b[0m\u001b[0;34m\u001b[0m\u001b[0m\n\u001b[1;32m    424\u001b[0m       raise RuntimeError(\"__iter__() is only supported inside of tf.function \"\n",
            "\u001b[0;32m/usr/local/lib/python3.6/dist-packages/tensorflow/python/data/ops/iterator_ops.py\u001b[0m in \u001b[0;36m__init__\u001b[0;34m(self, dataset, components, element_spec)\u001b[0m\n\u001b[1;32m    680\u001b[0m       \u001b[0;32mif\u001b[0m \u001b[0;34m(\u001b[0m\u001b[0mcomponents\u001b[0m \u001b[0;32mis\u001b[0m \u001b[0;32mnot\u001b[0m \u001b[0;32mNone\u001b[0m \u001b[0;32mor\u001b[0m \u001b[0melement_spec\u001b[0m \u001b[0;32mis\u001b[0m \u001b[0;32mnot\u001b[0m \u001b[0;32mNone\u001b[0m\u001b[0;34m)\u001b[0m\u001b[0;34m:\u001b[0m\u001b[0;34m\u001b[0m\u001b[0;34m\u001b[0m\u001b[0m\n\u001b[1;32m    681\u001b[0m         \u001b[0;32mraise\u001b[0m \u001b[0mValueError\u001b[0m\u001b[0;34m(\u001b[0m\u001b[0merror_message\u001b[0m\u001b[0;34m)\u001b[0m\u001b[0;34m\u001b[0m\u001b[0;34m\u001b[0m\u001b[0m\n\u001b[0;32m--> 682\u001b[0;31m       \u001b[0mself\u001b[0m\u001b[0;34m.\u001b[0m\u001b[0m_create_iterator\u001b[0m\u001b[0;34m(\u001b[0m\u001b[0mdataset\u001b[0m\u001b[0;34m)\u001b[0m\u001b[0;34m\u001b[0m\u001b[0;34m\u001b[0m\u001b[0m\n\u001b[0m\u001b[1;32m    683\u001b[0m \u001b[0;34m\u001b[0m\u001b[0m\n\u001b[1;32m    684\u001b[0m   \u001b[0;32mdef\u001b[0m \u001b[0m_create_iterator\u001b[0m\u001b[0;34m(\u001b[0m\u001b[0mself\u001b[0m\u001b[0;34m,\u001b[0m \u001b[0mdataset\u001b[0m\u001b[0;34m)\u001b[0m\u001b[0;34m:\u001b[0m\u001b[0;34m\u001b[0m\u001b[0;34m\u001b[0m\u001b[0m\n",
            "\u001b[0;32m/usr/local/lib/python3.6/dist-packages/tensorflow/python/data/ops/iterator_ops.py\u001b[0m in \u001b[0;36m_create_iterator\u001b[0;34m(self, dataset)\u001b[0m\n\u001b[1;32m    684\u001b[0m   \u001b[0;32mdef\u001b[0m \u001b[0m_create_iterator\u001b[0m\u001b[0;34m(\u001b[0m\u001b[0mself\u001b[0m\u001b[0;34m,\u001b[0m \u001b[0mdataset\u001b[0m\u001b[0;34m)\u001b[0m\u001b[0;34m:\u001b[0m\u001b[0;34m\u001b[0m\u001b[0;34m\u001b[0m\u001b[0m\n\u001b[1;32m    685\u001b[0m     \u001b[0;31m# pylint: disable=protected-access\u001b[0m\u001b[0;34m\u001b[0m\u001b[0;34m\u001b[0m\u001b[0;34m\u001b[0m\u001b[0m\n\u001b[0;32m--> 686\u001b[0;31m     \u001b[0mdataset\u001b[0m \u001b[0;34m=\u001b[0m \u001b[0mdataset\u001b[0m\u001b[0;34m.\u001b[0m\u001b[0m_apply_options\u001b[0m\u001b[0;34m(\u001b[0m\u001b[0;34m)\u001b[0m\u001b[0;34m\u001b[0m\u001b[0;34m\u001b[0m\u001b[0m\n\u001b[0m\u001b[1;32m    687\u001b[0m \u001b[0;34m\u001b[0m\u001b[0m\n\u001b[1;32m    688\u001b[0m     \u001b[0;31m# Store dataset reference to ensure that dataset is alive when this iterator\u001b[0m\u001b[0;34m\u001b[0m\u001b[0;34m\u001b[0m\u001b[0;34m\u001b[0m\u001b[0m\n",
            "\u001b[0;32m/usr/local/lib/python3.6/dist-packages/tensorflow/python/data/ops/dataset_ops.py\u001b[0m in \u001b[0;36m_apply_options\u001b[0;34m(self)\u001b[0m\n\u001b[1;32m    377\u001b[0m     \u001b[0mautotune\u001b[0m\u001b[0;34m,\u001b[0m \u001b[0malgorithm\u001b[0m\u001b[0;34m,\u001b[0m \u001b[0mcpu_budget\u001b[0m\u001b[0;34m,\u001b[0m \u001b[0mram_budget\u001b[0m \u001b[0;34m=\u001b[0m \u001b[0moptions\u001b[0m\u001b[0;34m.\u001b[0m\u001b[0m_autotune_settings\u001b[0m\u001b[0;34m(\u001b[0m\u001b[0;34m)\u001b[0m  \u001b[0;31m# pylint: disable=protected-access\u001b[0m\u001b[0;34m\u001b[0m\u001b[0;34m\u001b[0m\u001b[0m\n\u001b[1;32m    378\u001b[0m     \u001b[0;32mif\u001b[0m \u001b[0mautotune\u001b[0m\u001b[0;34m:\u001b[0m\u001b[0;34m\u001b[0m\u001b[0;34m\u001b[0m\u001b[0m\n\u001b[0;32m--> 379\u001b[0;31m       \u001b[0mdataset\u001b[0m \u001b[0;34m=\u001b[0m \u001b[0m_ModelDataset\u001b[0m\u001b[0;34m(\u001b[0m\u001b[0mdataset\u001b[0m\u001b[0;34m,\u001b[0m \u001b[0malgorithm\u001b[0m\u001b[0;34m,\u001b[0m \u001b[0mcpu_budget\u001b[0m\u001b[0;34m,\u001b[0m \u001b[0mram_budget\u001b[0m\u001b[0;34m)\u001b[0m\u001b[0;34m\u001b[0m\u001b[0;34m\u001b[0m\u001b[0m\n\u001b[0m\u001b[1;32m    380\u001b[0m \u001b[0;34m\u001b[0m\u001b[0m\n\u001b[1;32m    381\u001b[0m     \u001b[0;31m# (3) Apply graph rewrite options\u001b[0m\u001b[0;34m\u001b[0m\u001b[0;34m\u001b[0m\u001b[0;34m\u001b[0m\u001b[0m\n",
            "\u001b[0;32m/usr/local/lib/python3.6/dist-packages/tensorflow/python/data/ops/dataset_ops.py\u001b[0m in \u001b[0;36m__init__\u001b[0;34m(self, input_dataset, algorithm, cpu_budget, ram_budget)\u001b[0m\n\u001b[1;32m   4542\u001b[0m         \u001b[0mcpu_budget\u001b[0m\u001b[0;34m=\u001b[0m\u001b[0mcpu_budget\u001b[0m\u001b[0;34m,\u001b[0m\u001b[0;34m\u001b[0m\u001b[0;34m\u001b[0m\u001b[0m\n\u001b[1;32m   4543\u001b[0m         \u001b[0mram_budget\u001b[0m\u001b[0;34m=\u001b[0m\u001b[0mram_budget\u001b[0m\u001b[0;34m,\u001b[0m\u001b[0;34m\u001b[0m\u001b[0;34m\u001b[0m\u001b[0m\n\u001b[0;32m-> 4544\u001b[0;31m         **self._flat_structure)\n\u001b[0m\u001b[1;32m   4545\u001b[0m     \u001b[0msuper\u001b[0m\u001b[0;34m(\u001b[0m\u001b[0m_ModelDataset\u001b[0m\u001b[0;34m,\u001b[0m \u001b[0mself\u001b[0m\u001b[0;34m)\u001b[0m\u001b[0;34m.\u001b[0m\u001b[0m__init__\u001b[0m\u001b[0;34m(\u001b[0m\u001b[0minput_dataset\u001b[0m\u001b[0;34m,\u001b[0m \u001b[0mvariant_tensor\u001b[0m\u001b[0;34m)\u001b[0m\u001b[0;34m\u001b[0m\u001b[0;34m\u001b[0m\u001b[0m\n\u001b[1;32m   4546\u001b[0m \u001b[0;34m\u001b[0m\u001b[0m\n",
            "\u001b[0;32m/usr/local/lib/python3.6/dist-packages/tensorflow/python/ops/gen_dataset_ops.py\u001b[0m in \u001b[0;36mmodel_dataset\u001b[0;34m(input_dataset, output_types, output_shapes, algorithm, cpu_budget, ram_budget, name)\u001b[0m\n\u001b[1;32m   3252\u001b[0m         \u001b[0m_ctx\u001b[0m\u001b[0;34m,\u001b[0m \u001b[0;34m\"ModelDataset\"\u001b[0m\u001b[0;34m,\u001b[0m \u001b[0mname\u001b[0m\u001b[0;34m,\u001b[0m \u001b[0minput_dataset\u001b[0m\u001b[0;34m,\u001b[0m \u001b[0;34m\"algorithm\"\u001b[0m\u001b[0;34m,\u001b[0m \u001b[0malgorithm\u001b[0m\u001b[0;34m,\u001b[0m\u001b[0;34m\u001b[0m\u001b[0;34m\u001b[0m\u001b[0m\n\u001b[1;32m   3253\u001b[0m         \u001b[0;34m\"cpu_budget\"\u001b[0m\u001b[0;34m,\u001b[0m \u001b[0mcpu_budget\u001b[0m\u001b[0;34m,\u001b[0m \u001b[0;34m\"ram_budget\"\u001b[0m\u001b[0;34m,\u001b[0m \u001b[0mram_budget\u001b[0m\u001b[0;34m,\u001b[0m \u001b[0;34m\"output_types\"\u001b[0m\u001b[0;34m,\u001b[0m\u001b[0;34m\u001b[0m\u001b[0;34m\u001b[0m\u001b[0m\n\u001b[0;32m-> 3254\u001b[0;31m         output_types, \"output_shapes\", output_shapes)\n\u001b[0m\u001b[1;32m   3255\u001b[0m       \u001b[0;32mreturn\u001b[0m \u001b[0m_result\u001b[0m\u001b[0;34m\u001b[0m\u001b[0;34m\u001b[0m\u001b[0m\n\u001b[1;32m   3256\u001b[0m     \u001b[0;32mexcept\u001b[0m \u001b[0m_core\u001b[0m\u001b[0;34m.\u001b[0m\u001b[0m_NotOkStatusException\u001b[0m \u001b[0;32mas\u001b[0m \u001b[0me\u001b[0m\u001b[0;34m:\u001b[0m\u001b[0;34m\u001b[0m\u001b[0;34m\u001b[0m\u001b[0m\n",
            "\u001b[0;31mKeyboardInterrupt\u001b[0m: "
          ]
        }
      ]
    },
    {
      "cell_type": "code",
      "metadata": {
        "id": "h66cbcqSJKTe"
      },
      "source": [
        "# Simulation Pf\n",
        "Pf_OR = np.array([])\n",
        "Pf_AND = np.array([])\n",
        "Pf_M = np.array([])\n",
        "\n",
        "for snr_db in SNR_db:\n",
        "\n",
        "  detect_OR = 0\n",
        "  detect_AND = 0\n",
        "  detect_M = 0\n",
        "\n",
        "  print(\"At snr :\",snr_db)\n",
        "\n",
        "  Energy_stat_pre = np.array([])\n",
        "  for _ in range(N):\n",
        "    noise = np.random.randn(L,nodes)\n",
        "\n",
        "    #signal = math.sqrt(10**(snr_db/10))*np.random.randn(L,nodes)\n",
        "\n",
        "    Rec_signal = noise  # no signal\n",
        "        \n",
        "    Energy_stat = np.sum(np.abs(Rec_signal**2) ,axis=0) \n",
        "            \n",
        "    if not Energy_stat_pre.any():\n",
        "      Energy_stat_pre = Energy_stat\n",
        "\n",
        "    detect = [detection(Energy_stat[x],Energy_stat_pre[x]) for x in range(nodes)]\n",
        "    \n",
        "    Energy_stat_pre = Energy_stat\n",
        "    #print(detect)\n",
        "\n",
        "    if detect_func_AND(detect):\n",
        "      detect_AND += 1\n",
        "        \n",
        "    if detect_func_OR(detect):\n",
        "      detect_OR += 1\n",
        "    \n",
        "    if detect_func_M(detect):\n",
        "      detect_M += 1\n",
        "      \n",
        "  Pf_OR = np.append(Pf_OR,detect_OR/N)\n",
        "  Pf_AND = np.append(Pf_AND,detect_AND/N)\n",
        "  Pf_M = np.append(Pf_M,detect_M/N)\n",
        "\n",
        "#plot\n",
        "plt.plot(SNR_db,Pf_OR,'bo--',SNR_db,Pf_AND,'rx--',SNR_db,Pf_M,'kx--')\n",
        "# plot properties\n",
        "plt.xlabel(\"Signal To Noise Ratio (dB)\")\n",
        "plt.ylabel(\"Probability of False Alarm (P_f)\")\n",
        "plt.title(\"P_f v/s SNR\")\n",
        "plt.legend([\"Pf_OR\",\"Pf_AND\",\"Pf_M\"])\n",
        "plt.grid()\n",
        "plt.show()"
      ],
      "execution_count": null,
      "outputs": []
    }
  ]
}