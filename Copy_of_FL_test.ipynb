{
  "nbformat": 4,
  "nbformat_minor": 0,
  "metadata": {
    "colab": {
      "name": "Copy of FL_test.ipynb",
      "provenance": [],
      "collapsed_sections": [],
      "toc_visible": true,
      "include_colab_link": true
    },
    "kernelspec": {
      "name": "python3",
      "display_name": "Python 3"
    },
    "accelerator": "GPU"
  },
  "cells": [
    {
      "cell_type": "markdown",
      "metadata": {
        "id": "view-in-github",
        "colab_type": "text"
      },
      "source": [
        "<a href=\"https://colab.research.google.com/github/arpitvaghela/DSA_FL/blob/main/Copy_of_FL_test.ipynb\" target=\"_parent\"><img src=\"https://colab.research.google.com/assets/colab-badge.svg\" alt=\"Open In Colab\"/></a>"
      ]
    },
    {
      "cell_type": "markdown",
      "metadata": {
        "id": "svCGSaj-nkhH"
      },
      "source": [
        "# LSTM time series prediction using Federated Learning"
      ]
    },
    {
      "cell_type": "markdown",
      "metadata": {
        "id": "uXCLSy4Gnwlb"
      },
      "source": [
        "## Imports"
      ]
    },
    {
      "cell_type": "code",
      "metadata": {
        "id": "eH133PxAmIwg",
        "outputId": "0f518491-1f02-47e9-f163-d34b37bb5e52",
        "colab": {
          "base_uri": "https://localhost:8080/"
        }
      },
      "source": [
        "!pip install --quiet --upgrade tensorflow_federated_nightly\n",
        "!pip install --quiet --upgrade nest_asyncio\n",
        "\n",
        "import nest_asyncio\n",
        "nest_asyncio.apply()"
      ],
      "execution_count": 1,
      "outputs": [
        {
          "output_type": "stream",
          "text": [
            "\u001b[K     |████████████████████████████████| 532kB 9.3MB/s \n",
            "\u001b[K     |████████████████████████████████| 153kB 31.5MB/s \n",
            "\u001b[K     |████████████████████████████████| 112kB 43.9MB/s \n",
            "\u001b[K     |████████████████████████████████| 174kB 54.9MB/s \n",
            "\u001b[K     |████████████████████████████████| 3.0MB 45.8MB/s \n",
            "\u001b[K     |████████████████████████████████| 1.1MB 58.5MB/s \n",
            "\u001b[K     |████████████████████████████████| 394.9MB 43kB/s \n",
            "\u001b[K     |████████████████████████████████| 471kB 54.5MB/s \n",
            "\u001b[K     |████████████████████████████████| 1.3MB 45.7MB/s \n",
            "\u001b[K     |████████████████████████████████| 10.6MB 45.2MB/s \n",
            "\u001b[?25h  Building wheel for absl-py (setup.py) ... \u001b[?25l\u001b[?25hdone\n",
            "\u001b[31mERROR: datascience 0.10.6 has requirement folium==0.2.1, but you'll have folium 0.8.3 which is incompatible.\u001b[0m\n",
            "\u001b[31mERROR: tf-nightly 2.5.0.dev20201106 has requirement absl-py~=0.10, but you'll have absl-py 0.9.0 which is incompatible.\u001b[0m\n",
            "\u001b[31mERROR: tf-nightly 2.5.0.dev20201106 has requirement grpcio~=1.32.0, but you'll have grpcio 1.29.0 which is incompatible.\u001b[0m\n",
            "\u001b[31mERROR: tf-nightly 2.5.0.dev20201106 has requirement numpy~=1.19.2, but you'll have numpy 1.18.5 which is incompatible.\u001b[0m\n"
          ],
          "name": "stdout"
        }
      ]
    },
    {
      "cell_type": "code",
      "metadata": {
        "id": "TFY4S2_Snf7n"
      },
      "source": [
        "import collections\n",
        "import functools\n",
        "import os\n",
        "import time\n",
        "import math\n",
        "import numpy as np\n",
        "import pandas as pd\n",
        "import matplotlib.pyplot as plt\n",
        "\n",
        "from sklearn.preprocessing import MinMaxScaler\n",
        "from sklearn.metrics import mean_squared_error\n",
        "\n",
        "import tensorflow as tf\n",
        "\n",
        "np.random.seed(0)"
      ],
      "execution_count": 2,
      "outputs": []
    },
    {
      "cell_type": "code",
      "metadata": {
        "id": "ZMWb0_6TiCEY",
        "outputId": "eeae6021-d3b3-47a9-d4c9-f2e5699ca6a4",
        "colab": {
          "base_uri": "https://localhost:8080/"
        }
      },
      "source": [
        "import tensorflow_federated as tff\n",
        "\n",
        "# Test the TFF is working:\n",
        "tff.federated_computation(lambda: 'Hello, World!')()"
      ],
      "execution_count": 3,
      "outputs": [
        {
          "output_type": "stream",
          "text": [
            "/usr/local/lib/python3.6/dist-packages/tensorflow_addons/utils/ensure_tf_install.py:43: UserWarning: You are currently using a nightly version of TensorFlow (2.5.0-dev20201106). \n",
            "TensorFlow Addons offers no support for the nightly versions of TensorFlow. Some things might work, some other might not. \n",
            "If you encounter a bug, do not file an issue on GitHub.\n",
            "  UserWarning,\n"
          ],
          "name": "stderr"
        },
        {
          "output_type": "execute_result",
          "data": {
            "text/plain": [
              "b'Hello, World!'"
            ]
          },
          "metadata": {
            "tags": []
          },
          "execution_count": 3
        }
      ]
    },
    {
      "cell_type": "markdown",
      "metadata": {
        "id": "Sai_FSFon2bi"
      },
      "source": [
        "## Data preprocessing\n"
      ]
    },
    {
      "cell_type": "code",
      "metadata": {
        "id": "01sVWKEeGD2h",
        "outputId": "dd9e64f5-dc7b-4192-fdb8-b426fb3f5380",
        "colab": {
          "base_uri": "https://localhost:8080/"
        }
      },
      "source": [
        "#FM = np.fromfile('96_7_20db',dtype=np.float32)\n",
        "N = 10**6\n",
        "FM = np.random.randn(N) # normal distributed channel\n",
        "FM.reshape(-1,1) "
      ],
      "execution_count": 4,
      "outputs": [
        {
          "output_type": "execute_result",
          "data": {
            "text/plain": [
              "array([[ 1.76405235],\n",
              "       [ 0.40015721],\n",
              "       [ 0.97873798],\n",
              "       ...,\n",
              "       [-0.79728264],\n",
              "       [ 0.87475609],\n",
              "       [ 1.37183066]])"
            ]
          },
          "metadata": {
            "tags": []
          },
          "execution_count": 4
        }
      ]
    },
    {
      "cell_type": "markdown",
      "metadata": {
        "id": "nAM2qAD-oW94"
      },
      "source": [
        "### Bandpower Equation\n"
      ]
    },
    {
      "cell_type": "code",
      "metadata": {
        "id": "GYO80pFIoeQA"
      },
      "source": [
        "def bandpower(signal:np.array)->np.float:\n",
        "  return np.mean(signal ** 2)"
      ],
      "execution_count": 5,
      "outputs": []
    },
    {
      "cell_type": "code",
      "metadata": {
        "id": "nNXbJyA7oi1m",
        "outputId": "cd6aa829-87b5-44b1-9275-765d5139e1ae",
        "colab": {
          "base_uri": "https://localhost:8080/"
        }
      },
      "source": [
        "bandpower(FM)"
      ],
      "execution_count": 6,
      "outputs": [
        {
          "output_type": "execute_result",
          "data": {
            "text/plain": [
              "0.9998449448099948"
            ]
          },
          "metadata": {
            "tags": []
          },
          "execution_count": 6
        }
      ]
    },
    {
      "cell_type": "markdown",
      "metadata": {
        "id": "BPcmk3Fto4Rv"
      },
      "source": [
        "### awgn Function\n",
        "\n",
        "Function to add noise to the signal resulting in given S/N ratio"
      ]
    },
    {
      "cell_type": "code",
      "metadata": {
        "id": "LWbyqmZGo8_W"
      },
      "source": [
        "def awgn(signal:np.ndarray, desired_snr:int):\n",
        "  \"\"\"Add AWGN noise to generate signal with given SNR. \n",
        "  \"\"\"\n",
        "  # Converting the SNR from dB scale to linear scale\n",
        "  snr_linear = math.pow(10, desired_snr / 10)\n",
        "  \n",
        "  # Standard normally distributed noise\n",
        "  noise = np.random.randn(signal.shape[0], 1)\n",
        "  \n",
        "  # Using the boxed formula\n",
        "  var_signal = bandpower(noise) * snr_linear\n",
        "  \n",
        "  # Normalizing the signal to have the given variance\n",
        "  normalized_signal = math.sqrt(var_signal) * (signal / math.sqrt(bandpower(signal)))\n",
        "  \n",
        "  #print(\"SNR = \" + str(10 * math.log10(bandpower(normalized_signal) / bandpower(noise))))\n",
        "  \n",
        "  return normalized_signal + noise"
      ],
      "execution_count": 7,
      "outputs": []
    },
    {
      "cell_type": "markdown",
      "metadata": {
        "id": "o4pR1LeimNOH"
      },
      "source": [
        "## Filtering Data\n",
        "\n",
        "filtering data points to be in range $10^{-7}< signal< 1$"
      ]
    },
    {
      "cell_type": "code",
      "metadata": {
        "id": "QIk4gvwImMLw",
        "outputId": "eaf0420d-a7d4-4b30-93f1-936a62d97090",
        "colab": {
          "base_uri": "https://localhost:8080/"
        }
      },
      "source": [
        "FM = FM[np.logical_and(FM > math.pow(10, -7), FM < 1)]\n",
        "FM = FM.reshape(FM.shape[0], 1)\n",
        "print(\"Size of FM: \" + str(FM.shape))"
      ],
      "execution_count": 8,
      "outputs": [
        {
          "output_type": "stream",
          "text": [
            "Size of FM: (342135, 1)\n"
          ],
          "name": "stdout"
        }
      ]
    },
    {
      "cell_type": "markdown",
      "metadata": {
        "id": "YbLdLGRQmiRO"
      },
      "source": [
        "## Creating Dataset\n",
        "\n",
        "- take datapoints of size, _samples*sample_size_\n",
        "\n",
        "- add noise with desire snr\n",
        "\n",
        "- sample = $[s_1,s_2,\\cdots,s_N]$\n",
        "\n",
        "- Energy detection = $\\sum_{i=1}^{N}s_i^2$\n",
        "\n",
        "- $X[j]$ = $\\sum_{i=j*N+1}^{(j+1)*N}s_i^2$"
      ]
    },
    {
      "cell_type": "code",
      "metadata": {
        "id": "R1LYkOJNmk0T"
      },
      "source": [
        "def create_dataset(signal, desired_snr, samples, sample_size):\n",
        "  \n",
        "  # Creating the signal with desired SNR\n",
        "  snr_signal = awgn(signal[0:samples * sample_size], desired_snr)\n",
        "  \n",
        "  # Allocating zeros to the dataset\n",
        "  X = np.zeros((samples, 1))\n",
        "  \n",
        "  for i in range(0, samples):\n",
        "    \n",
        "    # Extracting the sample based on sample size\n",
        "    sampled_signal = snr_signal[i * sample_size : (i + 1) * sample_size]\n",
        "    \n",
        "    # Sorting the sampled signal\n",
        "    sampled_signal = np.sort(sampled_signal, axis=0)\n",
        "    \n",
        "    # Energy detection\n",
        "    E = np.sum(sampled_signal ** 2)\n",
        "    \n",
        "    # Assigning values to the dataset\n",
        "    X[i][0] = E\n",
        "  \n",
        "  return X"
      ],
      "execution_count": 9,
      "outputs": []
    },
    {
      "cell_type": "code",
      "metadata": {
        "id": "WulnZ62AqrIo",
        "outputId": "3e1a701b-2dbe-42de-a895-782e729d7cc5",
        "colab": {
          "base_uri": "https://localhost:8080/"
        }
      },
      "source": [
        "%%time\n",
        "# sample dataset for SNR=4\n",
        "\n",
        "print(create_dataset(FM[50000:], 4, 15000, 100).shape)"
      ],
      "execution_count": 10,
      "outputs": [
        {
          "output_type": "stream",
          "text": [
            "(15000, 1)\n",
            "CPU times: user 168 ms, sys: 26 µs, total: 168 ms\n",
            "Wall time: 169 ms\n"
          ],
          "name": "stdout"
        }
      ]
    },
    {
      "cell_type": "code",
      "metadata": {
        "id": "U_gucdavtx1G"
      },
      "source": [
        "def final_dataset(signal, snr_range, samples_per_snr, sample_size):\n",
        "  X = {}\n",
        "  \n",
        "  for snr in snr_range:\n",
        "    # Creating dataset for the given SNR\n",
        "    X_snr = create_dataset(signal, snr, samples_per_snr, sample_size)\n",
        "    \n",
        "    # Indexing within the final dataset matrix X\n",
        "    X[snr] = X_snr\n",
        "  \n",
        "  return X"
      ],
      "execution_count": 11,
      "outputs": []
    },
    {
      "cell_type": "markdown",
      "metadata": {
        "id": "cI4xprvuz63F"
      },
      "source": [
        "## Generating White Noise Sequence "
      ]
    },
    {
      "cell_type": "code",
      "metadata": {
        "id": "Hxedtzrhz1Zg"
      },
      "source": [
        "def create_noise_sequence(samples, sample_size):\n",
        "  \n",
        "  # Creating white noise sequence of variance 1\n",
        "  noise = np.random.randn(samples * sample_size, 1)\n",
        "  \n",
        "  # Allocating zeros to the dataset\n",
        "  X = np.zeros((samples, 1))\n",
        "  \n",
        "  for i in range(0, samples):\n",
        "    \n",
        "    # Extracting the sample based on sample size\n",
        "    sampled_signal = noise[i * sample_size : (i + 1) * sample_size]\n",
        "    \n",
        "    # Sorting the sampled signal\n",
        "    sampled_signal = np.sort(sampled_signal, axis=0)\n",
        "    \n",
        "    # Energy detection\n",
        "    E = np.sum(sampled_signal ** 2)\n",
        "    \n",
        "    # Assigning values to the dataset\n",
        "    X[i][0] = E\n",
        "  \n",
        "  return X"
      ],
      "execution_count": 12,
      "outputs": []
    },
    {
      "cell_type": "markdown",
      "metadata": {
        "id": "OJyk2JF-75mK"
      },
      "source": [
        "## DataSet LookBack for RNN"
      ]
    },
    {
      "cell_type": "code",
      "metadata": {
        "id": "gvufTiZ474jN"
      },
      "source": [
        "# Function for Chaning the dataset for look back  #linear dataset initially\n",
        "def create_look_back(X, look_back=1):\n",
        "  \n",
        "  # Look back dataset is initialized to be empty\n",
        "  look_back_X = []\n",
        "  \n",
        "  for i in range(len(X) - look_back + 1):\n",
        "    # Extracting an example from the dataset\n",
        "    a = X[i:(i + look_back), :]\n",
        "    \n",
        "    a = a.flatten() # (For flattening) #1D list\n",
        "    \n",
        "    # Appending to the dataset\n",
        "    look_back_X.append(a)\n",
        "  \n",
        "#  look_back_Y = []\n",
        "    \n",
        "  # Returning in numpy's array format\n",
        "  return np.array(look_back_X)"
      ],
      "execution_count": 17,
      "outputs": []
    },
    {
      "cell_type": "code",
      "metadata": {
        "id": "z2GMlbPO8AVW"
      },
      "source": [
        "def dataset_look_back(X_tech, snr_range, look_back):\n",
        "  X_tech_lb = {}\n",
        "  \n",
        "  # Look backs for all SNRs\n",
        "  for snr in snr_range:\n",
        "    X_tech_lb[snr] = create_look_back(X_tech[snr], look_back)\n",
        "  \n",
        "  return X_tech_lb"
      ],
      "execution_count": 19,
      "outputs": []
    },
    {
      "cell_type": "code",
      "metadata": {
        "id": "scC_nkQK5nTW"
      },
      "source": [
        "def generate_Dataset(FM,snr_ratio=(0.8, 0.2),sample_size=100):\n",
        "  lsnr_range=(-20,-4)\n",
        "  hsnr_range=(-4,6)\n",
        "  look_back = 2\n",
        "  N = len(FM)\n",
        "  \n",
        "  no_of_sample_hsnr = int((N*snr_ratio[0])//((hsnr_range[1] - hsnr_range[0])/2))\n",
        "  no_of_sample_lsnr = int((N*snr_ratio[1])//((lsnr_range[1] - lsnr_range[0])/2))\n",
        "  \n",
        "  X_FM = {**final_dataset(FM, range(lsnr_range[0],lsnr_range[1], 2),no_of_sample_lsnr, sample_size),\n",
        "          **final_dataset(FM, range(hsnr_range[0],hsnr_range[1], 2), no_of_sample_hsnr, sample_size)}\n",
        "\n",
        "  X_noise = create_noise_sequence(N, sample_size)\n",
        "\n",
        "  # lookback\n",
        "\n",
        "  X_FM_lb = dataset_look_back(X_FM, range(-20, 6, 2), look_back)\n",
        "  X_noise_lb = create_look_back(X_noise, look_back)\n",
        "\n",
        "  # final X_train and y\n",
        "\n",
        "  X = X_FM_lb[-20]\n",
        "  y = []\n",
        "\n",
        "  for snr in range(-18, 6, 2):\n",
        "    X = np.concatenate((X, X_FM_lb[snr]), axis=0)\n",
        "\n",
        "  y = np.ones((X.shape[0], 1))\n",
        " \n",
        "  # print(X.shape)\n",
        "  # print(X_noise_lb.shape)\n",
        "  X = np.concatenate((X, X_noise_lb), axis=0)\n",
        "  y_train = np.concatenate((y, np.zeros((X_noise_lb.shape[0], 1))))\n",
        "\n",
        "  \n",
        "  # reshape\n",
        "  X_train = np.reshape(X, (-1, 2, 1))\n",
        "  Y_train = np.reshape(y_train,(-1,1,1))\n",
        "\n",
        "  index = [i for i in range(len(X_train))]\n",
        "  np.random.shuffle(index)\n",
        "\n",
        "  X_train = np.array([X_train[i] for i in index])\n",
        "  Y_train = np.array([Y_train[i] for i in index])\n",
        "  \n",
        "  return X_train,Y_train\n",
        "\n",
        " "
      ],
      "execution_count": 156,
      "outputs": []
    },
    {
      "cell_type": "code",
      "metadata": {
        "id": "AJU9EU3wBwNe"
      },
      "source": [
        "# created dataset\n",
        "X,Y = generate_Dataset(FM)"
      ],
      "execution_count": 158,
      "outputs": []
    },
    {
      "cell_type": "code",
      "metadata": {
        "id": "BGzoklAWn1D2",
        "outputId": "a5923d23-0a41-4360-8301-f7847360bc97",
        "colab": {
          "base_uri": "https://localhost:8080/"
        }
      },
      "source": [
        "print(\"Shape of X,Y :\",X.shape,Y.shape) # similar to the shape we have\n",
        "\n",
        "# train,test split\n",
        "train_size = int(len(X)*0.80)\n",
        "test_size = len(X) - train_size\n",
        "\n",
        "X_train, X_test = X[:train_size,:,:],X[train_size:,:,:]\n",
        "Y_train, Y_test = Y[:train_size,:,:],Y[train_size:,:,:]\n",
        "\n",
        "\n",
        "print(X_train.shape,X_test.shape)\n",
        "print(Y_train.shape,Y_test.shape)\n"
      ],
      "execution_count": 160,
      "outputs": [
        {
          "output_type": "stream",
          "text": [
            "Shape of X,Y : (684250, 2, 1) (684250, 1, 1)\n",
            "(547400, 2, 1) (136850, 2, 1)\n",
            "(547400, 1, 1) (136850, 1, 1)\n"
          ],
          "name": "stdout"
        }
      ]
    },
    {
      "cell_type": "code",
      "metadata": {
        "id": "toI_ufHp468o",
        "outputId": "003aeec0-2183-4e9f-965e-720d0456dc5d",
        "colab": {
          "base_uri": "https://localhost:8080/"
        }
      },
      "source": [
        "X_train[0],Y_train[0]"
      ],
      "execution_count": 161,
      "outputs": [
        {
          "output_type": "execute_result",
          "data": {
            "text/plain": [
              "(array([[0.],\n",
              "        [0.]]), array([[1.]]))"
            ]
          },
          "metadata": {
            "tags": []
          },
          "execution_count": 161
        }
      ]
    },
    {
      "cell_type": "markdown",
      "metadata": {
        "id": "mgDaE52i1rW1"
      },
      "source": [
        "## LSTM model and training"
      ]
    },
    {
      "cell_type": "code",
      "metadata": {
        "id": "2uFVvvCA1oyA",
        "outputId": "6c9d27d3-9a49-4f5a-815f-c0d20b23b9a6",
        "colab": {
          "base_uri": "https://localhost:8080/"
        }
      },
      "source": [
        "model = tf.keras.models.Sequential([\n",
        "      tf.keras.layers.LSTM(4,input_dim=1),\n",
        "      tf.keras.layers.Dense(1, activation='sigmoid')\n",
        "])\n",
        "\n",
        "model.compile(loss='binary_crossentropy', optimizer='adam', metrics=['accuracy'])\n",
        "model.summary()"
      ],
      "execution_count": 162,
      "outputs": [
        {
          "output_type": "stream",
          "text": [
            "Model: \"sequential_6\"\n",
            "_________________________________________________________________\n",
            "Layer (type)                 Output Shape              Param #   \n",
            "=================================================================\n",
            "lstm_6 (LSTM)                (None, 4)                 96        \n",
            "_________________________________________________________________\n",
            "dense_6 (Dense)              (None, 1)                 5         \n",
            "=================================================================\n",
            "Total params: 101\n",
            "Trainable params: 101\n",
            "Non-trainable params: 0\n",
            "_________________________________________________________________\n"
          ],
          "name": "stdout"
        }
      ]
    },
    {
      "cell_type": "code",
      "metadata": {
        "id": "UcsCPMCG2TiW",
        "outputId": "b289ef95-5305-4a03-9445-554f51d0f0c5",
        "colab": {
          "base_uri": "https://localhost:8080/"
        }
      },
      "source": [
        "model.fit(X_train,Y_train,validation_split=0.25,epochs=10,verbose=1)\n",
        "\n",
        "model.evaluate(X_test,Y_test,verbose=1)"
      ],
      "execution_count": 216,
      "outputs": [
        {
          "output_type": "stream",
          "text": [
            "Epoch 1/10\n",
            "12830/12830 [==============================] - 31s 2ms/step - loss: 0.2088 - accuracy: 0.9348 - val_loss: 0.2030 - val_accuracy: 0.9344\n",
            "Epoch 2/10\n",
            "12830/12830 [==============================] - 31s 2ms/step - loss: 0.2004 - accuracy: 0.9356 - val_loss: 0.2031 - val_accuracy: 0.9344\n",
            "Epoch 3/10\n",
            "12830/12830 [==============================] - 31s 2ms/step - loss: 0.2004 - accuracy: 0.9356 - val_loss: 0.2030 - val_accuracy: 0.9344\n",
            "Epoch 4/10\n",
            "12830/12830 [==============================] - 31s 2ms/step - loss: 0.2004 - accuracy: 0.9356 - val_loss: 0.2030 - val_accuracy: 0.9344\n",
            "Epoch 5/10\n",
            "12830/12830 [==============================] - 31s 2ms/step - loss: 0.2004 - accuracy: 0.9356 - val_loss: 0.2030 - val_accuracy: 0.9344\n",
            "Epoch 6/10\n",
            "12830/12830 [==============================] - 31s 2ms/step - loss: 0.2004 - accuracy: 0.9356 - val_loss: 0.2030 - val_accuracy: 0.9344\n",
            "Epoch 7/10\n",
            "12830/12830 [==============================] - 32s 2ms/step - loss: 0.2004 - accuracy: 0.9356 - val_loss: 0.2030 - val_accuracy: 0.9344\n",
            "Epoch 8/10\n",
            "12830/12830 [==============================] - 31s 2ms/step - loss: 0.2004 - accuracy: 0.9356 - val_loss: 0.2030 - val_accuracy: 0.9344\n",
            "Epoch 9/10\n",
            "12830/12830 [==============================] - 31s 2ms/step - loss: 0.2004 - accuracy: 0.9356 - val_loss: 0.2031 - val_accuracy: 0.9344\n",
            "Epoch 10/10\n",
            "12830/12830 [==============================] - 31s 2ms/step - loss: 0.2004 - accuracy: 0.9356 - val_loss: 0.2030 - val_accuracy: 0.9344\n",
            "4277/4277 [==============================] - 4s 955us/step - loss: 0.2041 - accuracy: 0.9338\n"
          ],
          "name": "stdout"
        },
        {
          "output_type": "execute_result",
          "data": {
            "text/plain": [
              "[0.2040516436100006, 0.9338253736495972]"
            ]
          },
          "metadata": {
            "tags": []
          },
          "execution_count": 216
        }
      ]
    },
    {
      "cell_type": "markdown",
      "metadata": {
        "id": "ZmsKdN4L-XoH"
      },
      "source": [
        "## LSTM model test"
      ]
    },
    {
      "cell_type": "code",
      "metadata": {
        "id": "WPRyulTQ4xlR",
        "outputId": "73dd2eed-7b97-43e3-8dca-9e7d59fad21f",
        "colab": {
          "base_uri": "https://localhost:8080/",
          "height": 295
        }
      },
      "source": [
        "from sklearn.metrics import roc_curve\n",
        "from sklearn.metrics import auc\n",
        "\n",
        "Y_pred = model.predict(X_test).ravel()\n",
        "Y_pred.reshape(-1,1)\n",
        "fpr, tpr, threshold = roc_curve(Y_test.reshape(-1,1), Y_pred) \n",
        "auc = auc(fpr,tpr)\n",
        "plt.plot(fpr, tpr, label='LSTM (area = {:.3f})'.format(auc))\n",
        "plt.xlabel('False positive rate')\n",
        "plt.ylabel('True positive rate')\n",
        "plt.title('ROC curve')\n",
        "plt.legend()\n",
        "plt.show()"
      ],
      "execution_count": 217,
      "outputs": [
        {
          "output_type": "display_data",
          "data": {
            "image/png": "[encoded data removed]",
            "text/plain": [
              "<Figure size 432x288 with 1 Axes>"
            ]
          },
          "metadata": {
            "tags": [],
            "needs_background": "light"
          }
        }
      ]
    },
    {
      "cell_type": "markdown",
      "metadata": {
        "id": "tzyrzeQJ5Lr8"
      },
      "source": [
        "## Federated Training and preprocessing centrailized data"
      ]
    },
    {
      "cell_type": "markdown",
      "metadata": {
        "id": "Bmtnpe0k7LkP"
      },
      "source": [
        "### Generating a decentralized data"
      ]
    },
    {
      "cell_type": "code",
      "metadata": {
        "id": "s-mdaAoCIZd9",
        "outputId": "9019a5d3-30c8-4dcf-ded4-358a9e9d6b26",
        "colab": {
          "base_uri": "https://localhost:8080/"
        }
      },
      "source": [
        "T_CLIENTS = 500\n",
        "CLIENT_SAMPLE_SIZE = len(X_train)/T_CLIENTS\n",
        "step = len(X_train)/T_CLIENTS\n",
        "\n",
        "data_fed = [ tf.data.Dataset.from_tensor_slices(\n",
        "         {\n",
        "          \"value\":X_train[int(i*step):int((i+1)*step)],\n",
        "          \"label\":Y_train[int(i*step):int((i+1)*step)]\n",
        "        }\n",
        "     ) for i in range(T_CLIENTS)]\n",
        "\n",
        "# client dataset can be accesed as data_fed[ CLIENT_ID ]\n",
        "example_dataset = data_fed[0]\n",
        "\n",
        "#   def preprocess(data_fed):\n",
        "#   def batch_format_fn(ele):\n",
        "\n",
        "example_element = next(iter(example_dataset))\n",
        "\n",
        "print(example_element[\"value\"].numpy()) # example_element[0] refers to X val\n",
        "print(example_element[\"label\"].numpy()) # example_element[1] refers to X val"
      ],
      "execution_count": 218,
      "outputs": [
        {
          "output_type": "stream",
          "text": [
            "[[0.]\n",
            " [0.]]\n",
            "[[1.]]\n"
          ],
          "name": "stdout"
        }
      ]
    },
    {
      "cell_type": "code",
      "metadata": {
        "id": "B1Wpqli6Vh2a"
      },
      "source": [
        "# preprocess\n",
        "\n",
        "NUM_CLIENTS = T_CLIENTS\n",
        "NUM_EPOCHS = 5\n",
        "BATCH_SIZE = int(CLIENT_SAMPLE_SIZE//2)\n",
        "SHUFFLE_BUFFER = 100\n",
        "PREFETCH_BUFFER = 10\n",
        "\n",
        "def preprocess(dataset):\n",
        "  \n",
        "  def batch_format_fn(element):\n",
        "    return collections.OrderedDict(\n",
        "        x=element[\"value\"],\n",
        "        y=element[\"label\"]\n",
        "    )\n",
        "  return dataset.repeat(NUM_EPOCHS).shuffle(SHUFFLE_BUFFER).batch(BATCH_SIZE).map(batch_format_fn).prefetch(PREFETCH_BUFFER)\n"
      ],
      "execution_count": 219,
      "outputs": []
    },
    {
      "cell_type": "code",
      "metadata": {
        "id": "uMHiDzm2WtjI",
        "outputId": "5bc6c6a2-e5c6-4565-c84d-8c19995cd7e6",
        "colab": {
          "base_uri": "https://localhost:8080/"
        }
      },
      "source": [
        "\n",
        "preprocessed_example_dataset = preprocess(example_dataset)\n",
        "\n",
        "sample_batch = tf.nest.map_structure(lambda x: x.numpy(),\n",
        "                                     next(iter(preprocessed_example_dataset)))\n",
        "\n",
        "sample_batch[\"x\"].shape"
      ],
      "execution_count": 220,
      "outputs": [
        {
          "output_type": "execute_result",
          "data": {
            "text/plain": [
              "(547, 2, 1)"
            ]
          },
          "metadata": {
            "tags": []
          },
          "execution_count": 220
        }
      ]
    },
    {
      "cell_type": "code",
      "metadata": {
        "id": "BMom1cGNXsRR"
      },
      "source": [
        "def make_federated_data(client_data,client_ids):\n",
        "  return [\n",
        "      preprocess(client_data[x])\n",
        "      for x in client_ids\n",
        "  ]\n"
      ],
      "execution_count": 221,
      "outputs": []
    },
    {
      "cell_type": "code",
      "metadata": {
        "id": "9rgHIDe4YB1w",
        "outputId": "06fa7ab7-ce65-4661-ab76-ab3a423f25cd",
        "colab": {
          "base_uri": "https://localhost:8080/"
        }
      },
      "source": [
        "sample_clients = [x for x in range(NUM_CLIENTS)]\n",
        "\n",
        "federated_train_data = make_federated_data(data_fed, sample_clients)\n",
        "\n",
        "print('Number of client datasets: {l}'.format(l=len(federated_train_data)))\n",
        "print('First dataset: {d}'.format(d=federated_train_data[0]))\n"
      ],
      "execution_count": 222,
      "outputs": [
        {
          "output_type": "stream",
          "text": [
            "Number of client datasets: 500\n",
            "First dataset: <PrefetchDataset shapes: OrderedDict([(x, (None, 2, 1)), (y, (None, 1, 1))]), types: OrderedDict([(x, tf.float64), (y, tf.float64)])>\n"
          ],
          "name": "stdout"
        }
      ]
    },
    {
      "cell_type": "markdown",
      "metadata": {
        "id": "trf7VhCY9Mqe"
      },
      "source": [
        "### Creating the Iterative process"
      ]
    },
    {
      "cell_type": "code",
      "metadata": {
        "id": "KncNTVBU5JXO",
        "outputId": "7727f4e5-c604-488a-8fe5-cadcd338646c",
        "colab": {
          "base_uri": "https://localhost:8080/",
          "height": 53
        }
      },
      "source": [
        "# model.compile(loss='mean_squared_error', optimizer='adam', metrics=['accuracy'])\n",
        "\n",
        "def model_fn():\n",
        "  keras_model = tf.keras.models.Sequential([\n",
        "      tf.keras.layers.LSTM(4,input_dim=1),\n",
        "      tf.keras.layers.Dense(1, activation='sigmoid')\n",
        "  ])\n",
        "  return tff.learning.from_keras_model(\n",
        "    keras_model,\n",
        "    input_spec=preprocessed_example_dataset.element_spec,\n",
        "    loss=tf.keras.losses.MeanSquaredError(),\n",
        "    metrics=[tf.keras.metrics.BinaryAccuracy()]\n",
        "  )\n",
        "\n",
        "iterative_process = tff.learning.build_federated_averaging_process(\n",
        "    model_fn,\n",
        "    client_optimizer_fn=lambda: tf.keras.optimizers.SGD(learning_rate=0.02),\n",
        "    server_optimizer_fn=lambda: tf.keras.optimizers.SGD(learning_rate=1.0))\n",
        "\n",
        "str(iterative_process.initialize.type_signature)\n"
      ],
      "execution_count": 223,
      "outputs": [
        {
          "output_type": "execute_result",
          "data": {
            "application/vnd.google.colaboratory.intrinsic+json": {
              "type": "string"
            },
            "text/plain": [
              "'( -> <model=<trainable=<float32[1,16],float32[4,16],float32[16],float32[4,1],float32[1]>,non_trainable=<>>,optimizer_state=<int64>,delta_aggregate_state=<value_sum_process=<>,weight_sum_process=<>>,model_broadcast_state=<>>@SERVER)'"
            ]
          },
          "metadata": {
            "tags": []
          },
          "execution_count": 223
        }
      ]
    },
    {
      "cell_type": "code",
      "metadata": {
        "id": "zybQ_rTkjRfm"
      },
      "source": [
        "state = iterative_process.initialize()\n",
        "test_model = tf.keras.models.clone_model(model)\n",
        "test_model.compile(\n",
        "    loss=tf.keras.losses.MeanSquaredError(),\n",
        "    optimizer=tf.keras.optimizers.SGD(),\n",
        "    metrics=[tf.keras.metrics.BinaryAccuracy()])\n",
        "\n",
        "def keras_evaluate(state, round_num):\n",
        "  state.model.assign_weights_to(test_model)\n",
        "  loss, accuracy = test_model.evaluate(X_test,Y_test, steps=2, verbose=0)\n",
        "  print('\\tEval: loss={l:.3f}, accuracy={a:.3f}'.format(l=loss, a=accuracy))"
      ],
      "execution_count": 224,
      "outputs": []
    },
    {
      "cell_type": "markdown",
      "metadata": {
        "id": "CQuAfSa29UXh"
      },
      "source": [
        "### Iterations"
      ]
    },
    {
      "cell_type": "code",
      "metadata": {
        "id": "S7Z1XlOgjgqK",
        "outputId": "5988264b-d66d-4ab5-9c54-63ab8b953339",
        "colab": {
          "base_uri": "https://localhost:8080/"
        }
      },
      "source": [
        "NUM_ROUNDS = 21\n",
        "CLIENT_PER_ROUND = 25\n",
        "for round_num in range(1, NUM_ROUNDS):\n",
        "  # 500 clients are selected for training in various rounds\n",
        "  # there are 10 rounds and each round takes data from 50 clients\n",
        "\n",
        "  clients = [round_num*x for x in range(1,CLIENT_PER_ROUND)]\n",
        "  federated_train_data = make_federated_data(data_fed, clients)\n",
        "  \n",
        "  print(\"ROUND \",round_num)\n",
        "  keras_evaluate(state, NUM_ROUNDS + 1) # eval before hand\n",
        "  state, metrics = iterative_process.next(state, federated_train_data)\n",
        "  print('\\tTrain: loss={}, accuracy={} '.format(round_num, metrics[\"train\"][\"loss\"],metrics[\"train\"][\"binary_accuracy\"]))\n",
        "\n",
        "keras_evaluate(state, NUM_ROUNDS + 1)"
      ],
      "execution_count": 230,
      "outputs": [
        {
          "output_type": "stream",
          "text": [
            "ROUND  1\n",
            "\tEval: loss=0.183, accuracy=0.934\n",
            "\tTrain: loss=1, accuracy=0.18180041015148163 \n",
            "ROUND  2\n",
            "\tEval: loss=0.182, accuracy=0.934\n",
            "\tTrain: loss=2, accuracy=0.17999771237373352 \n",
            "ROUND  3\n",
            "\tEval: loss=0.180, accuracy=0.934\n",
            "\tTrain: loss=3, accuracy=0.17907977104187012 \n",
            "ROUND  4\n",
            "\tEval: loss=0.179, accuracy=0.934\n",
            "\tTrain: loss=4, accuracy=0.1767006367444992 \n",
            "ROUND  5\n",
            "\tEval: loss=0.177, accuracy=0.934\n",
            "\tTrain: loss=5, accuracy=0.1758982241153717 \n",
            "ROUND  6\n",
            "\tEval: loss=0.176, accuracy=0.934\n",
            "\tTrain: loss=6, accuracy=0.1740993708372116 \n",
            "ROUND  7\n",
            "\tEval: loss=0.174, accuracy=0.934\n",
            "\tTrain: loss=7, accuracy=0.17320339381694794 \n",
            "ROUND  8\n",
            "\tEval: loss=0.173, accuracy=0.934\n",
            "\tTrain: loss=8, accuracy=0.17084282636642456 \n",
            "ROUND  9\n",
            "\tEval: loss=0.172, accuracy=0.934\n",
            "\tTrain: loss=9, accuracy=0.16996632516384125 \n",
            "ROUND  10\n",
            "\tEval: loss=0.170, accuracy=0.934\n",
            "\tTrain: loss=10, accuracy=0.1688462793827057 \n",
            "ROUND  11\n",
            "\tEval: loss=0.169, accuracy=0.934\n",
            "\tTrain: loss=11, accuracy=0.16730071604251862 \n",
            "ROUND  12\n",
            "\tEval: loss=0.167, accuracy=0.934\n",
            "\tTrain: loss=12, accuracy=0.16562993824481964 \n",
            "ROUND  13\n",
            "\tEval: loss=0.166, accuracy=0.934\n",
            "\tTrain: loss=13, accuracy=0.16451087594032288 \n",
            "ROUND  14\n",
            "\tEval: loss=0.165, accuracy=0.934\n",
            "\tTrain: loss=14, accuracy=0.16352657973766327 \n",
            "ROUND  15\n",
            "\tEval: loss=0.163, accuracy=0.934\n",
            "\tTrain: loss=15, accuracy=0.16183656454086304 \n",
            "ROUND  16\n",
            "\tEval: loss=0.162, accuracy=0.934\n",
            "\tTrain: loss=16, accuracy=0.160792276263237 \n",
            "ROUND  17\n",
            "\tEval: loss=0.161, accuracy=0.934\n",
            "\tTrain: loss=17, accuracy=0.15937301516532898 \n",
            "ROUND  18\n",
            "\tEval: loss=0.159, accuracy=0.934\n",
            "\tTrain: loss=18, accuracy=0.15800945460796356 \n",
            "ROUND  19\n",
            "\tEval: loss=0.158, accuracy=0.934\n",
            "\tTrain: loss=19, accuracy=0.15739992260932922 \n",
            "ROUND  20\n",
            "\tEval: loss=0.157, accuracy=0.934\n",
            "\tTrain: loss=20, accuracy=0.15515603125095367 \n",
            "\tEval: loss=0.155, accuracy=0.934\n"
          ],
          "name": "stdout"
        }
      ]
    },
    {
      "cell_type": "code",
      "metadata": {
        "id": "QL1DYMZCS30F",
        "outputId": "7398808c-927c-4e2d-fab8-19d41112f0af",
        "colab": {
          "base_uri": "https://localhost:8080/",
          "height": 265
        }
      },
      "source": [
        "from sklearn.metrics import roc_curve\n",
        "from sklearn.metrics import auc\n",
        "\n",
        "# tensorflow LSTM \n",
        "Y_pred = model.predict(X_test).ravel()\n",
        "Y_pred.reshape(-1,1)\n",
        "fpr, tpr, threshold = roc_curve(Y_test.reshape(-1,1), Y_pred) \n",
        "auc_tf = auc(fpr,tpr)\n",
        "plt.plot(fpr, tpr, label='TF (area = {:.3f})'.format(auc_tf))\n",
        "\n",
        "\n",
        "# Federated Learning\n",
        "state.model.assign_weights_to(test_model)\n",
        "\n",
        "Y_pred_FL = test_model.predict(X_test).ravel()\n",
        "Y_pred_FL.reshape(-1,1)\n",
        "fpr_FL, tpr_FL, threshold_FL = roc_curve(Y_test.reshape(-1,1), Y_pred_FL) \n",
        "auc_tff = auc(fpr_FL,tpr_FL)\n",
        "plt.plot(fpr_FL, tpr_FL,'k', label='FL (area = {:.3f})'.format(auc_tff))\n",
        "plt.xlabel('False positive rate')\n",
        "plt.ylabel('True positive rate')\n",
        "plt.title('ROC curve')\n",
        "plt.legend()\n",
        "plt.show()"
      ],
      "execution_count": 231,
      "outputs": [
        {
          "output_type": "display_data",
          "data": {
            "image/png": "[encoded data removed]",
            "text/plain": [
              "<Figure size 432x288 with 1 Axes>"
            ]
          },
          "metadata": {
            "tags": [],
            "needs_background": "light"
          }
        }
      ]
    }
  ]
}